{
  "nbformat": 4,
  "nbformat_minor": 0,
  "metadata": {
    "colab": {
      "provenance": [],
      "authorship_tag": "ABX9TyMdy57PbnHZXeFsKrSecbEb",
      "include_colab_link": true
    },
    "kernelspec": {
      "name": "python3",
      "display_name": "Python 3"
    },
    "language_info": {
      "name": "python"
    }
  },
  "cells": [
    {
      "cell_type": "markdown",
      "metadata": {
        "id": "view-in-github",
        "colab_type": "text"
      },
      "source": [
        "<a href=\"https://colab.research.google.com/github/RaOOns/Coding-Algorithm/blob/main/%EC%B5%9C%EB%8B%A8%20%EA%B2%BD%EB%A1%9C/%EB%AF%B8%EB%9E%98%20%EB%8F%84%EC%8B%9C/%EB%AF%B8%EB%9E%98%20%EB%8F%84%EC%8B%9C.ipynb\" target=\"_parent\"><img src=\"https://colab.research.google.com/assets/colab-badge.svg\" alt=\"Open In Colab\"/></a>"
      ]
    },
    {
      "cell_type": "code",
      "execution_count": 1,
      "metadata": {
        "colab": {
          "base_uri": "https://localhost:8080/"
        },
        "id": "0Pl2O7dkPUtT",
        "outputId": "c6457e69-0456-4c63-9fa0-db395dc9264c"
      },
      "outputs": [
        {
          "output_type": "stream",
          "name": "stdout",
          "text": [
            "5 7\n",
            "1 2\n",
            "1 3\n",
            "1 4\n",
            "2 4\n",
            "3 4\n",
            "3 5\n",
            "4 5\n",
            "4 5\n",
            "3\n"
          ]
        }
      ],
      "source": [
        "### 기본 설정 및 입력값\n",
        "INF = int(1e9)\n",
        "n, m = map(int, input().split())\n",
        "graph = [[INF] * (n+1) for _ in range(n+1)]     # 2차원 리스트(그래프 표현)를 만들고, 모든 값을 무한으로 초기화\n",
        "\n",
        "\n",
        "\n",
        "### 자기 자신에서 자기 자신으로 가는 비용은 0으로 초기화\n",
        "for a in range(1, n+1):\n",
        "    for b in range(1, n+1):\n",
        "        if a == b:\n",
        "            graph[a][b] = 0\n",
        "\n",
        "\n",
        "### 각 간선에 대한 정보를 입력받아, 그 값으로 초기화\n",
        "for _ in range(m):\n",
        "    a, b = map(int, input().split())        # A와 B가 서로에게 가는 비용은 1이라고 설정\n",
        "    graph[a][b] = 1\n",
        "    graph[b][a] = 1\n",
        "\n",
        "\n",
        "### 거쳐 갈 노드 X와 최종 목적지 노드 K를 입력받기\n",
        "x, k = map(int, input().split())\n",
        "\n",
        "\n",
        "### 점화식에 따라 플로이드 워셜 알고리즘 수행\n",
        "for k in range(1, n+1):\n",
        "    for a in range(1, n+1):\n",
        "        for b in range(1, n+1):\n",
        "            graph[a][b] = min(graph[a][b], graph[a][k] + graph[k][b])\n",
        "\n",
        "\n",
        "### 수행된 결과를 출력\n",
        "distance = graph[1][k] + graph[k][x]\n",
        "\n",
        "\n",
        "### 도달할 수 없는 경우 -1을 출력\n",
        "if distance >= INF:\n",
        "    print(\"-1\")\n",
        "else:\n",
        "    print(distance)"
      ]
    },
    {
      "cell_type": "code",
      "source": [],
      "metadata": {
        "id": "CfrRdFbXQljf"
      },
      "execution_count": null,
      "outputs": []
    }
  ]
}