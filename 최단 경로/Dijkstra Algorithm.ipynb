{
  "nbformat": 4,
  "nbformat_minor": 0,
  "metadata": {
    "colab": {
      "provenance": [],
      "authorship_tag": "ABX9TyN0el82MzDNzu9fJjhdw1Cf",
      "include_colab_link": true
    },
    "kernelspec": {
      "name": "python3",
      "display_name": "Python 3"
    },
    "language_info": {
      "name": "python"
    }
  },
  "cells": [
    {
      "cell_type": "markdown",
      "metadata": {
        "id": "view-in-github",
        "colab_type": "text"
      },
      "source": [
        "<a href=\"https://colab.research.google.com/github/RaOOns/Coding-Algorithm/blob/main/%EC%B5%9C%EB%8B%A8%20%EA%B2%BD%EB%A1%9C/Dijkstra%20Algorithm.ipynb\" target=\"_parent\"><img src=\"https://colab.research.google.com/assets/colab-badge.svg\" alt=\"Open In Colab\"/></a>"
      ]
    },
    {
      "cell_type": "markdown",
      "source": [
        "### **방법1. 간단한 다익스트라 알고리즘**\n",
        "\n",
        "- 데이터의 수가 많다는 가정하에 파이썬 내장 함수인 input()을 \\\n",
        "  더 빠르게 동작하는 sys.std.readline()으로 치환하여 사용"
      ],
      "metadata": {
        "id": "NyfyYYE_BExl"
      }
    },
    {
      "cell_type": "code",
      "source": [
        "import sys\n",
        "\n",
        "### 기본 설정\n",
        "# input = sys.stdin.readline            # 사용 시 not enough values to unpack (expected 2, got 0) 에러 발생\n",
        "\n",
        "INF = int(1e9)                          # 무한을 의미하는 값으로 10억을 설정\n",
        "n, m = map(int, input().split())        # 노드의 개수, 간선의 개수를 입력받기\n",
        "start = int(input())                    # 시작 노드 번호를 입력받기\n",
        "graph = [[] for i in range(n+1)]        # 각 노드에 연결되어 있는 노드에 대한 정보를 담는 리스트 만들기\n",
        "visited = [False] * (n+1)               # 방문한 적이 있는지 체크하는 목적의 리스트 만들기\n",
        "distance = [INF] * (n+1)                # 최단 거리 테이블을 모두 무한으로 초기화\n",
        "\n",
        "\n",
        "\n",
        "### 모든 간선의 정보를 입력받기\n",
        "for _ in range(m):\n",
        "    a, b, c = map(int, input().split())     # a번 노드에서 b번 노드로 가는 비용이 c라는 의미\n",
        "    graph[a].append((b, c))\n",
        "\n",
        "print(graph)\n",
        "\n",
        "### 방문하지 않은 노드 중에서, 가장 최단 거리가 짧은 노드의 번호를 반환\n",
        "def get_smallest_node():\n",
        "    min_value = INF\n",
        "    index = 0                   # 가장 최단 거리가 짧은 노드(인덱스)\n",
        "    for i in range(1, n+1):\n",
        "        if distance[i] < min_value and not visited[i]:\n",
        "            min_value = distance[i]\n",
        "            index = i\n",
        "    return index\n",
        "\n",
        "\n",
        "\n",
        "### 다이스트라 알고리즘 함수\n",
        "def dijkstra(start):\n",
        "    # 시작 노드에 대해서 초기화\n",
        "    distance[start] = 0\n",
        "    visited[start] = True\n",
        "    for j in graph[start]:\n",
        "        distance[j[0]] = j[1]\n",
        "\n",
        "    # 시작 노드를 제외한 전체 n-1개의 노드에 대해 반복\n",
        "    for i in range(n-1):\n",
        "        # 현재 최단 거리가 가장 짧은 노드를 꺼내서, 방문 처리\n",
        "        now = get_smallest_node()\n",
        "        visited[now] = True\n",
        "\n",
        "        # 현재 노드와 연결된 다른 노드를 확인\n",
        "        for j in graph[now]:\n",
        "            cost = distance[now] + j[1]\n",
        "            # 현재 노드를 거쳐서 다른 노드로 이동하는 거리가 더 짧은 경우\n",
        "            if cost < distance[j[0]]:\n",
        "                distance[j[0]] = cost\n",
        "\n",
        "\n",
        "\n",
        "### 다익스트라 알고리즘 수행\n",
        "dijkstra(start)\n",
        "\n",
        "\n",
        "\n",
        "### 모든 노드를 가기 위한 최단 거리를 출력\n",
        "for i in range(1, n+1):\n",
        "    # 도달할 수 없는 경우, 무한(INFINITY)이라고 출력\n",
        "    if distance[i] == INF:\n",
        "        print(\"INFINITY\")\n",
        "    # 도달할 수 있는 경우, 거리를 출력\n",
        "    else:\n",
        "        print(distance[i])"
      ],
      "metadata": {
        "colab": {
          "base_uri": "https://localhost:8080/"
        },
        "id": "lrkkFxX7BdIF",
        "outputId": "10847e2d-5fef-4eac-e8ce-3de9e2331b28"
      },
      "execution_count": 1,
      "outputs": [
        {
          "output_type": "stream",
          "name": "stdout",
          "text": [
            "6 11\n",
            "1\n",
            "1 2 2\n",
            "1 3 5\n",
            "1 4 1\n",
            "2 3 3\n",
            "2 4 2\n",
            "3 2 3\n",
            "3 6 5\n",
            "4 3 3\n",
            "4 5 1\n",
            "5 3 1\n",
            "5 6 2\n",
            "[[], [(2, 2), (3, 5), (4, 1)], [(3, 3), (4, 2)], [(2, 3), (6, 5)], [(3, 3), (5, 1)], [(3, 1), (6, 2)], []]\n",
            "0\n",
            "2\n",
            "3\n",
            "1\n",
            "2\n",
            "4\n"
          ]
        }
      ]
    },
    {
      "cell_type": "markdown",
      "source": [
        "### **개선된 다익스트라 알고리즘**"
      ],
      "metadata": {
        "id": "_9HmmyQ1iMKd"
      }
    },
    {
      "cell_type": "code",
      "source": [
        "import heapq\n",
        "import sys\n",
        "\n",
        "### 기본 설정\n",
        "# input = sys.stdin.readline            # 사용 시 not enough values to unpack (expected 2, got 0) 에러 발생\n",
        "\n",
        "INF = int(1e9)                          # 무한을 의미하는 값으로 10억을 설정\n",
        "n, m = map(int, input().split())        # 노드의 개수, 간선의 개수를 입력받기\n",
        "start = int(input())                    # 시작 노드 번호를 입력받기\n",
        "graph = [[] for i in range(n+1)]        # 각 노드에 연결되어 있는 노드에 대한 정보를 담는 리스트 만들기\n",
        "distance = [INF] * (n+1)                # 최단 거리 테이블을 모두 무한으로 초기화\n",
        "\n",
        "\n",
        "### 모든 간선의 정보를 입력받기\n",
        "for _ in range(m):\n",
        "    a, b, c = map(int, input().split())     # a번 노드에서 b번 노드로 가는 비용이 c라는 의미\n",
        "    graph[a].append((b, c))\n",
        "\n",
        "# print(graph)\n",
        "\n",
        "\n",
        "### 다이스트라 알고리즘 함수\n",
        "def dijkstra(start):\n",
        "    q = []\n",
        "    # 시작 노드로 가기 위한 최단 경로는 0으로 설정하여, 큐에 삽입\n",
        "    heapq.heappush(q, (0, start))\n",
        "    distance[start] = 0\n",
        "\n",
        "    while q:                            # 큐가 비어있지 않다면\n",
        "        dist, now = heapq.heappop(q)    # 가장 최단 거리가 짧은 노드에 대한 정보 꺼기\n",
        "\n",
        "        if distance[now] < dist:        # 현재 노드가 이미 처리된 적이 있는 노드라면 무시\n",
        "            continue\n",
        "\n",
        "        for i in graph[now]:            # 현재 노드와 연결된 다른 인접한 노드들을 확인\n",
        "            cost = dist + i[1]\n",
        "            if cost < distance[i[0]]:       # 현재 노드를 거쳐서, 다른 노드로 이동하는 거리가 더 짧은 경우\n",
        "                distance[i[0]] = cost\n",
        "                heapq.heappush(q, (cost, i[0]))\n",
        "\n",
        "\n",
        "\n",
        "### 다익스트라 알고리즘 수행\n",
        "dijkstra(start)\n",
        "\n",
        "\n",
        "\n",
        "### 모든 노드를 가기 위한 최단 거리를 출력\n",
        "for i in range(1, n+1):\n",
        "    # 도달할 수 없는 경우, 무한(INFINITY)이라고 출력\n",
        "    if distance[i] == INF:\n",
        "        print(\"INFINITY\")\n",
        "    # 도달할 수 있는 경우, 거리를 출력\n",
        "    else:\n",
        "        print(distance[i])"
      ],
      "metadata": {
        "colab": {
          "base_uri": "https://localhost:8080/"
        },
        "id": "lZGZMtT6iPth",
        "outputId": "f31179af-c5cc-4e4b-a3d4-3e81d7f779a2"
      },
      "execution_count": 3,
      "outputs": [
        {
          "output_type": "stream",
          "name": "stdout",
          "text": [
            "6 11\n",
            "1\n",
            "1 2 2\n",
            "1 3 5\n",
            "1 4 1\n",
            "2 3 3\n",
            "2 4 2\n",
            "3 2 3\n",
            "3 6 5\n",
            "4 3 3\n",
            "4 5 1\n",
            "5 3 1\n",
            "5 6 2\n",
            "0\n",
            "2\n",
            "3\n",
            "1\n",
            "2\n",
            "4\n"
          ]
        }
      ]
    },
    {
      "cell_type": "code",
      "source": [],
      "metadata": {
        "id": "gRxtaD5nkZb-"
      },
      "execution_count": null,
      "outputs": []
    }
  ]
}