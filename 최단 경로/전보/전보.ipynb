{
  "nbformat": 4,
  "nbformat_minor": 0,
  "metadata": {
    "colab": {
      "provenance": [],
      "authorship_tag": "ABX9TyNBS/S9VOgxDLfoq5+y7eOi",
      "include_colab_link": true
    },
    "kernelspec": {
      "name": "python3",
      "display_name": "Python 3"
    },
    "language_info": {
      "name": "python"
    }
  },
  "cells": [
    {
      "cell_type": "markdown",
      "metadata": {
        "id": "view-in-github",
        "colab_type": "text"
      },
      "source": [
        "<a href=\"https://colab.research.google.com/github/RaOOns/Coding-Algorithm/blob/main/%EC%B5%9C%EB%8B%A8%20%EA%B2%BD%EB%A1%9C/%EC%A0%84%EB%B3%B4/%EC%A0%84%EB%B3%B4.ipynb\" target=\"_parent\"><img src=\"https://colab.research.google.com/assets/colab-badge.svg\" alt=\"Open In Colab\"/></a>"
      ]
    },
    {
      "cell_type": "code",
      "execution_count": 1,
      "metadata": {
        "colab": {
          "base_uri": "https://localhost:8080/"
        },
        "id": "LmuDVRdcYfgo",
        "outputId": "93d79a38-884e-496a-b531-964f2dbda4dc"
      },
      "outputs": [
        {
          "output_type": "stream",
          "name": "stdout",
          "text": [
            "3 2 1\n",
            "1 2 4\n",
            "1 3 2\n",
            "2 4\n"
          ]
        }
      ],
      "source": [
        "import heapq\n",
        "import sys\n",
        "\n",
        "### 기본 설정\n",
        "# input = sys.stdin.readline                # 에러 발생하여 사용하지 않음\n",
        "INF = int(1e9)\n",
        "n, m, start = map(int, input().split())     # 노드의 개수, 간선의 개수, 시작 노드를 입력받기\n",
        "graph = [[] for i in range(n+1)]            # 각 노드에 연결되어 있는 노드에 대한 정보를 담는 리스트 만들기\n",
        "distance = [INF] * (n+1)                    # 최단 거리 테이블을 모두 무한으로 초기화\n",
        "\n",
        "\n",
        "### 모든 간선 정보를 입력받기\n",
        "for _ in range(m):\n",
        "    x, y, z = map(int, input().split())     # x번 노드에서 y번 노드로 가는 비용이 z라는 의미\n",
        "    graph[x].append((y, z))\n",
        "\n",
        "\n",
        "### 다익스트라 알고리즘\n",
        "def dijkstra(start):\n",
        "    q = []\n",
        "\n",
        "    # 시작 노드로 가기 위한 최단 경로는 0으로 설정하여 큐에 삽입\n",
        "    heapq.heappush(q, (0, start))\n",
        "    distance[start] = 0\n",
        "\n",
        "    while q:                            # 큐가 비어있지 않다면\n",
        "        dist, now = heapq.heappop(q)        # 가장 최단 거리가 짧은 노드에 대한 정보를 꺼내기\n",
        "        if distance[now] < dist:\n",
        "            continue\n",
        "\n",
        "        for i in graph[now]:                # 현재 노드와 연결된 다른 인접한 노드들을 확인\n",
        "            cost = dist + i[1]\n",
        "\n",
        "            if cost < distance[i[0]]:           # 현재 노드를 거쳐서, 다른 노드로 이동하는 거리가 더 짧은 경우\n",
        "                distance[i[0]] = cost\n",
        "                heapq.heappush(q, (cost, i[0]))\n",
        "\n",
        "\n",
        "\n",
        "### 다익스트라 알고리즘을 수행\n",
        "dijkstra(start)\n",
        "\n",
        "\n",
        "### 도달할 수 있는 노드의 개수\n",
        "count = 0\n",
        "\n",
        "# 도달할 수 있는 노드 중에서, 가장 멀리 있는 노드와의 최단 거리\n",
        "max_distance = 0\n",
        "for d in distance:\n",
        "    if d != INF:        # 도달할 수 있는 노드인 경우\n",
        "        count += 1\n",
        "        max_distance = max(max_distance, d)\n",
        "\n",
        "\n",
        "# 시작 노드는 제외해야 하므로 count - 1을 출력\n",
        "print(count - 1, max_distance)"
      ]
    },
    {
      "cell_type": "code",
      "source": [],
      "metadata": {
        "id": "mmu2C-RDbmcR"
      },
      "execution_count": null,
      "outputs": []
    }
  ]
}