{
  "nbformat": 4,
  "nbformat_minor": 0,
  "metadata": {
    "colab": {
      "provenance": [],
      "authorship_tag": "ABX9TyP6S92LJJAAwqhuD0EcKxqn",
      "include_colab_link": true
    },
    "kernelspec": {
      "name": "python3",
      "display_name": "Python 3"
    },
    "language_info": {
      "name": "python"
    }
  },
  "cells": [
    {
      "cell_type": "markdown",
      "metadata": {
        "id": "view-in-github",
        "colab_type": "text"
      },
      "source": [
        "<a href=\"https://colab.research.google.com/github/RaOOns/Coding-Algorithm/blob/main/%EC%B5%9C%EB%8B%A8%20%EA%B2%BD%EB%A1%9C/Floyd%20Warshall%20Algorithm.ipynb\" target=\"_parent\"><img src=\"https://colab.research.google.com/assets/colab-badge.svg\" alt=\"Open In Colab\"/></a>"
      ]
    },
    {
      "cell_type": "code",
      "execution_count": 4,
      "metadata": {
        "colab": {
          "base_uri": "https://localhost:8080/"
        },
        "id": "rBVauD-OCWMQ",
        "outputId": "6b81213e-719d-43de-aa0d-b3ed78901340"
      },
      "outputs": [
        {
          "output_type": "stream",
          "name": "stdout",
          "text": [
            "4\n",
            "7\n",
            "1 2 4\n",
            "1 4 6\n",
            "2 1 3\n",
            "2 3 7\n",
            "3 1 5\n",
            "3 4 4\n",
            "4 3 2\n",
            "====================\n",
            "0 4 8 6 \n",
            "3 0 7 9 \n",
            "5 9 0 4 \n",
            "7 11 2 0 \n"
          ]
        }
      ],
      "source": [
        "import sys\n",
        "\n",
        "### 기본 설정\n",
        "# input = sys.stdin.readline            # 사용 시 not enough values to unpack (expected 2, got 0) 에러 발생\n",
        "\n",
        "INF = int(1e9)                                  # 무한을 의미하는 값으로 10억을 설정\n",
        "n = int(input())                                # 노드의 개수 입력받기\n",
        "m = int(input())                                # 간선의 개수 입력받기\n",
        "graph = [[INF] * (n+1) for _ in range(n+1)]     # 2차원 리스트(그래프 표현)를 만들고, 모든 값을 무한으로 초기화\n",
        "\n",
        "\n",
        "\n",
        "### 자기 자신에게서 자기 자신으로 가는 비용은 0으로 초기화\n",
        "for a in range(1, n+1):\n",
        "    for b in range(1, n+1):\n",
        "        if a == b:\n",
        "            graph[a][b] = 0\n",
        "\n",
        "\n",
        "\n",
        "### 모든 간선의 정보를 입력받기\n",
        "for _ in range(m):\n",
        "    a, b, c = map(int, input().split())     # a번 노드에서 b번 노드로 가는 비용이 c라는 의미\n",
        "    graph[a][b] = c\n",
        "\n",
        "\n",
        "### 점화식에 따라 플로이드 워셜 알고리즘 수행\n",
        "for k in range(1, n+1) :\n",
        "    for a in range(1, n+1):\n",
        "        for b in range(1, n+1):\n",
        "            graph[a][b] = min(graph[a][b], graph[a][k] + graph[k][b])\n",
        "\n",
        "\n",
        "\n",
        "### 수행된 결과를 출력\n",
        "print(\"==\"*10)\n",
        "for a in range(1, n+1) :\n",
        "    for b in range(1, n+1) :\n",
        "        # 도달할 수 없는 경우, 무한(INFINITY)이라고 출력\n",
        "        if graph[a][b] == INF:\n",
        "            print(\"INFINITY\", end = \" \")\n",
        "\n",
        "        # 도달할 수 있는 경우 거리를 출력\n",
        "        else:\n",
        "            print(graph[a][b], end = \" \")\n",
        "    print()"
      ]
    },
    {
      "cell_type": "code",
      "source": [],
      "metadata": {
        "id": "TUn-b79HEWir"
      },
      "execution_count": null,
      "outputs": []
    }
  ]
}