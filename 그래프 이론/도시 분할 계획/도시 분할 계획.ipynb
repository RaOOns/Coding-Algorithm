{
  "nbformat": 4,
  "nbformat_minor": 0,
  "metadata": {
    "colab": {
      "provenance": [],
      "authorship_tag": "ABX9TyNKooaN+oxvdocNFZJMdOsR",
      "include_colab_link": true
    },
    "kernelspec": {
      "name": "python3",
      "display_name": "Python 3"
    },
    "language_info": {
      "name": "python"
    }
  },
  "cells": [
    {
      "cell_type": "markdown",
      "metadata": {
        "id": "view-in-github",
        "colab_type": "text"
      },
      "source": [
        "<a href=\"https://colab.research.google.com/github/RaOOns/Coding-Algorithm/blob/main/%EA%B7%B8%EB%9E%98%ED%94%84%20%EC%9D%B4%EB%A1%A0/%EB%8F%84%EC%8B%9C%20%EB%B6%84%ED%95%A0%20%EA%B3%84%ED%9A%8D/%EB%8F%84%EC%8B%9C%20%EB%B6%84%ED%95%A0%20%EA%B3%84%ED%9A%8D.ipynb\" target=\"_parent\"><img src=\"https://colab.research.google.com/assets/colab-badge.svg\" alt=\"Open In Colab\"/></a>"
      ]
    },
    {
      "cell_type": "markdown",
      "source": [
        "### **도시 분할 계획**\n",
        "\n",
        "- 크루스칼 알고리즘으로 최소 신장 트리를 찾은 뒤에 최소 신장 트리를 구성하는 간선 중에서 가장 비용이 큰 간선을 제거하는 것\n",
        "- 최소 신장 트리를 찾은 뒤에 가장 큰 간선을 제거하는 방법"
      ],
      "metadata": {
        "id": "JboWLD6fbs_r"
      }
    },
    {
      "cell_type": "code",
      "execution_count": 1,
      "metadata": {
        "colab": {
          "base_uri": "https://localhost:8080/"
        },
        "id": "S-1a3U91aHFd",
        "outputId": "d474160a-dd80-4693-a73d-56c88551ad54"
      },
      "outputs": [
        {
          "output_type": "stream",
          "name": "stdout",
          "text": [
            "7 12\n",
            "1 2 3\n",
            "1 3 2\n",
            "3 2 1\n",
            "2 5 2\n",
            "3 4 4\n",
            "7 3 6\n",
            "5 1 5\n",
            "1 6 2\n",
            "6 4 1\n",
            "6 5 3\n",
            "4 5 3\n",
            "6 7 4\n",
            "8\n"
          ]
        }
      ],
      "source": [
        "### 특정 원소가 속한 집합을 찾기\n",
        "def find_parent(parent, x):\n",
        "    if parent[x] != x:\n",
        "        parent[x] = find_parent(parent, parent[x])\n",
        "    return parent[x]\n",
        "\n",
        "\n",
        "\n",
        "### 두 원소가 속한 집합을 합치기\n",
        "def union_parent(parent, a, b):\n",
        "    a = find_parent(parent, a)\n",
        "    b = find_parent(parent, b)\n",
        "    if a < b:\n",
        "        parent[b] = a\n",
        "    else:\n",
        "        parent[a] = b\n",
        "\n",
        "\n",
        "\n",
        "### 기본 설정\n",
        "v, e = map(int, input().split())    # 노드의 개수와 간선(union 연산)의 개수 입력받기\n",
        "parent = [0] * (v+1)                # 부모 테이블 초기화\n",
        "edges = []                          # 모든 간선을 담을 리스트와 최종 비용을 담을 변수\n",
        "result = 0\n",
        "\n",
        "\n",
        "### 부모 테이블상에서, 부모를 자기 자신으로 초기화\n",
        "for i in range(0, v+1):\n",
        "    parent[i] = i\n",
        "\n",
        "\n",
        "\n",
        "### 모든 간선에 대한 정보를 입력받기\n",
        "for _ in range(e):\n",
        "    a, b, cost = map(int, input().split())\n",
        "    edges.append((cost, a, b))              # 비용순으로 정렬하기 위해서 튜플의 첫 번째 원소를 비용으로 설정\n",
        "\n",
        "\n",
        "\n",
        "### 간선을 비용순으로 정렬\n",
        "edges.sort()\n",
        "last = 0        # 최소 신장 트리에 포함되는 간선 중에서 가장 비용이 큰 간선\n",
        "\n",
        "\n",
        "\n",
        "### 간선 하나씩 확인하며\n",
        "for edge in edges:\n",
        "    cost, a, b = edge\n",
        "\n",
        "    if find_parent(parent, a) != find_parent(parent, b):\n",
        "        union_parent(parent, a, b)\n",
        "        result += cost\n",
        "        last = cost\n",
        "\n",
        "print(result - last)\n"
      ]
    },
    {
      "cell_type": "code",
      "source": [],
      "metadata": {
        "id": "zz2qh2VncNGK"
      },
      "execution_count": null,
      "outputs": []
    }
  ]
}