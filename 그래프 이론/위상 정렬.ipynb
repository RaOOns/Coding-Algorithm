{
  "nbformat": 4,
  "nbformat_minor": 0,
  "metadata": {
    "colab": {
      "provenance": [],
      "authorship_tag": "ABX9TyPghka+JfjsRJFXHtIgKHag",
      "include_colab_link": true
    },
    "kernelspec": {
      "name": "python3",
      "display_name": "Python 3"
    },
    "language_info": {
      "name": "python"
    }
  },
  "cells": [
    {
      "cell_type": "markdown",
      "metadata": {
        "id": "view-in-github",
        "colab_type": "text"
      },
      "source": [
        "<a href=\"https://colab.research.google.com/github/RaOOns/Coding-Algorithm/blob/main/%EA%B7%B8%EB%9E%98%ED%94%84%20%EC%9D%B4%EB%A1%A0/%EC%9C%84%EC%83%81%20%EC%A0%95%EB%A0%AC.ipynb\" target=\"_parent\"><img src=\"https://colab.research.google.com/assets/colab-badge.svg\" alt=\"Open In Colab\"/></a>"
      ]
    },
    {
      "cell_type": "code",
      "execution_count": 2,
      "metadata": {
        "colab": {
          "base_uri": "https://localhost:8080/"
        },
        "id": "AYcAgoJ3K_ZH",
        "outputId": "6dbf288e-95a1-4360-bd1b-44fb9f3e63a3"
      },
      "outputs": [
        {
          "output_type": "stream",
          "name": "stdout",
          "text": [
            "7 8\n",
            "1 2\n",
            "1 5\n",
            "2 3\n",
            "2 6\n",
            "3 4\n",
            "4 7\n",
            "5 6\n",
            "6 4\n",
            "1 2 5 3 6 4 7 "
          ]
        }
      ],
      "source": [
        "from collections import deque\n",
        "\n",
        "### 기본 설정\n",
        "v, e = map(int, input().split())        # 노드의 개수와 간선의 개수를 입력받기\n",
        "indegree = [0] * (v+1)                  # 모든 노드에 대한 진입차수는 0으로 초기화\n",
        "graph = [[] for i in range(v+1)]        # 각 노드에 연결된 간선 정보를 담기 위한 연결 리스트(그래프) 초기화\n",
        "\n",
        "\n",
        "### 방향 그래프의 모든 간선 정보를 입력받기\n",
        "for _ in range(e):\n",
        "    a, b = map(int, input().split())\n",
        "    graph[a].append(b)                  # 정점 A에서 B로 이동 가능\n",
        "    indegree[b] += 1                    # 진입차수를 1증가\n",
        "\n",
        "\n",
        "\n",
        "### 위상 정렬 함수\n",
        "def topology_sort():\n",
        "    result = []         # 알고리즘 수행 결과를 담을 리스트\n",
        "    q = deque()         # 큐 기능을 위한 deque 라이브러리 사용\n",
        "\n",
        "    # 처음 시작할 때는 진입차수가 0인 노드를 큐에 삽입\n",
        "    for i in range(1, v+1):\n",
        "        if indegree[i] == 0:\n",
        "            q.append(i)\n",
        "\n",
        "\n",
        "    # 큐가 빌 때까지 반복\n",
        "    while q:\n",
        "        now = q.popleft()       # 큐에서 원소 꺼내기\n",
        "        result.append(now)\n",
        "\n",
        "        for i in graph[now]:    # 해당 원소와 연결된 노드들의 진입차수에서 1 빼기\n",
        "            indegree[i] -= 1\n",
        "\n",
        "            if indegree[i] == 0:    # 새롭게 진입차수가 0이 되는 노드를 큐에 삽입\n",
        "                q.append(i)\n",
        "\n",
        "    # 위상 정렬을 수행한 결과 출력\n",
        "    for i in result:\n",
        "        print(i, end = \" \")\n",
        "\n",
        "\n",
        "topology_sort()"
      ]
    },
    {
      "cell_type": "code",
      "source": [],
      "metadata": {
        "id": "tSHvXVGgMbyX"
      },
      "execution_count": null,
      "outputs": []
    }
  ]
}