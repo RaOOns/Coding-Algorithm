{
  "nbformat": 4,
  "nbformat_minor": 0,
  "metadata": {
    "colab": {
      "provenance": [],
      "authorship_tag": "ABX9TyNkNJsJYzLbUjv6oZ/kdhyE",
      "include_colab_link": true
    },
    "kernelspec": {
      "name": "python3",
      "display_name": "Python 3"
    },
    "language_info": {
      "name": "python"
    }
  },
  "cells": [
    {
      "cell_type": "markdown",
      "metadata": {
        "id": "view-in-github",
        "colab_type": "text"
      },
      "source": [
        "<a href=\"https://colab.research.google.com/github/RaOOns/Coding-Algorithm/blob/main/%EA%B7%B8%EB%9E%98%ED%94%84%20%EC%9D%B4%EB%A1%A0/%EC%BB%A4%EB%A6%AC%ED%81%98%EB%9F%BC/%EC%BB%A4%EB%A6%AC%ED%81%98%EB%9F%BC.ipynb\" target=\"_parent\"><img src=\"https://colab.research.google.com/assets/colab-badge.svg\" alt=\"Open In Colab\"/></a>"
      ]
    },
    {
      "cell_type": "markdown",
      "source": [
        "### **커리큘럼**\n",
        "\n",
        "\n",
        "\n",
        "<br/>\n",
        "\n",
        "- 소스코드 특징\n",
        "    - 아이디어: 위상 정렬을 수행하면서, 매번 간선 정보를 확인하여 결과 테이블을 갱신\n",
        "    - 소스코드에서는 최종적으로 각 강의를 수강하기까지의 최소 시간을 result 리스트(결과 테이블) 변수에 담도록 함\n",
        "    - 처음에 각 강의 시간은 time 리스트 변수에 담겨 있는데, 위상 정렬 힘수의 초기 부분에서 deepcopy() 함수를 이용하여 time 리스트 변수의 값을 복사하여 result 리스트 변수의 값으로 설정하는 작업이 수행.\n",
        "    - 리스트의 경우, 단순히 대입 연산을 하면 값이 변경될 때 문제가 발생할 수 있기 때문에, 리스트의 값을 복제해야 할 때는 deepcopy() 함수를 사용한다는 점을 기억"
      ],
      "metadata": {
        "id": "2yOi3mARdAoR"
      }
    },
    {
      "cell_type": "code",
      "execution_count": 2,
      "metadata": {
        "colab": {
          "base_uri": "https://localhost:8080/"
        },
        "id": "OckakdNzc5YS",
        "outputId": "492c312b-6ca6-422b-9068-61ed59e0a839"
      },
      "outputs": [
        {
          "output_type": "stream",
          "name": "stdout",
          "text": [
            "5\n",
            "10 -1\n",
            "10 1 -1\n",
            "4 1 -1\n",
            "4 3 1 -1\n",
            "3 3 -1\n",
            "10\n",
            "20\n",
            "14\n",
            "18\n",
            "17\n"
          ]
        }
      ],
      "source": [
        "from collections import deque\n",
        "import copy\n",
        "\n",
        "\n",
        "### 기본 설정\n",
        "v = int(input())                    # 노드의 개수 입력받기\n",
        "indegree = [0] * (v+1)              # 모든 노드에 대한 진입차수는 0으로 초기화\n",
        "graph = [[] for i in range(v+1)]    # 각 노드에 연결된 간선 정보를 담기 위한 연결 리스트(그래프) 초기화\n",
        "time = [0] * (v+1)                  # 각 강의 시간을 0으로 초기화\n",
        "\n",
        "\n",
        "\n",
        "### 방향 그래프의 모든 간선 정보를 입력받기\n",
        "for i in range(1, v+1):\n",
        "    data = list(map(int, input().split()))\n",
        "    time[i] = data[0]                       # 첫 번째 수는 시간 정보를 담고 있음\n",
        "    for x in data[1:-1]:\n",
        "        indegree[i] += 1\n",
        "        graph[x].append(i)\n",
        "\n",
        "\n",
        "### 위상 정렬 함수\n",
        "def topology_sort():\n",
        "    result = copy.deepcopy(time)        # 알고리즘 수행 결과를 담을 리스트\n",
        "    q = deque()                         # 큐 기능을 위한 deque 라이브러리 사용\n",
        "\n",
        "    # 처음 시작할 때는 진입차수가 0인 노드를 큐에 삽입\n",
        "    for i in range(1, v+1):\n",
        "        if indegree[i] == 0:\n",
        "            q.append(i)\n",
        "\n",
        "\n",
        "    # 큐가 빌 때까지 반복\n",
        "    while q:\n",
        "        now = q.popleft()\n",
        "\n",
        "        # 큐에서 원소 꺼내기\n",
        "        for i in graph[now]:\n",
        "            result[i] = max(result[i], result[now] + time[i])\n",
        "            indegree[i] -= 1\n",
        "\n",
        "            # 새롭게 진입차수가 0이 되는 노드를 큐에 삽입\n",
        "            if indegree[i] == 0:\n",
        "                q.append(i)\n",
        "\n",
        "    # 위상 정렬을 수행한 결과 출력\n",
        "    for i in range(1, v+1):\n",
        "        print(result[i])\n",
        "\n",
        "\n",
        "topology_sort()"
      ]
    },
    {
      "cell_type": "code",
      "source": [],
      "metadata": {
        "id": "q8Wpz15IhiMG"
      },
      "execution_count": null,
      "outputs": []
    }
  ]
}