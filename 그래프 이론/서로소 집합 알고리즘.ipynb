{
  "nbformat": 4,
  "nbformat_minor": 0,
  "metadata": {
    "colab": {
      "provenance": [],
      "authorship_tag": "ABX9TyMJ4eT5pUfYYPJOzAzs9P0k",
      "include_colab_link": true
    },
    "kernelspec": {
      "name": "python3",
      "display_name": "Python 3"
    },
    "language_info": {
      "name": "python"
    }
  },
  "cells": [
    {
      "cell_type": "markdown",
      "metadata": {
        "id": "view-in-github",
        "colab_type": "text"
      },
      "source": [
        "<a href=\"https://colab.research.google.com/github/RaOOns/Coding-Algorithm/blob/main/%EA%B7%B8%EB%9E%98%ED%94%84%20%EC%9D%B4%EB%A1%A0/%EC%84%9C%EB%A1%9C%EC%86%8C%20%EC%A7%91%ED%95%A9%20%EC%95%8C%EA%B3%A0%EB%A6%AC%EC%A6%98.ipynb\" target=\"_parent\"><img src=\"https://colab.research.google.com/assets/colab-badge.svg\" alt=\"Open In Colab\"/></a>"
      ]
    },
    {
      "cell_type": "markdown",
      "source": [
        "### **기본적인 서로소 집합 알고리즘**"
      ],
      "metadata": {
        "id": "tR1Dskyh23ig"
      }
    },
    {
      "cell_type": "code",
      "source": [
        "import time\n",
        "\n",
        "### 특정한 원소가 속한 집합을 찾기\n",
        "def find_parent(parent, x):\n",
        "    if parent[x] != x:                              # 루트 노드가 아니라면, 루트 노드를 찾을 때까지 재귀적으로 호출\n",
        "        return find_parent(parent, parent[x])\n",
        "    return x\n",
        "\n",
        "\n",
        "\n",
        "### 두 원소가 속한 집합을 합치기\n",
        "def union_parent(parent, a, b):\n",
        "    a = find_parent(parent, a)\n",
        "    b = find_parent(parent, b)\n",
        "    if a < b:\n",
        "        parent[b] = a\n",
        "    else:\n",
        "        parent[a] = b\n",
        "\n",
        "\n",
        "\n",
        "### 노드의 개수와 간선(union 연산)의 개수 입력받기\n",
        "v, e = map(int, input().split())\n",
        "parent = [0] * (v+1)                                # 부모 테이블 초기화\n",
        "\n",
        "\n",
        "\n",
        "start = time.time()\n",
        "\n",
        "### 부모 테이블상에서, 부모를 자기 자신으로 초기화\n",
        "for i in range(v+1):\n",
        "    parent[i] = i\n",
        "\n",
        "\n",
        "\n",
        "### union 연산을 각각 수행\n",
        "for i in range(e):\n",
        "    a, b = map(int, input().split())\n",
        "    union_parent(parent, a, b)\n",
        "\n",
        "\n",
        "\n",
        "### 각 원소가 속한 집합 출력\n",
        "print(\"각 원소가 속한 집합: \", end = \"\")\n",
        "for i in range(1, v+1):\n",
        "    print(find_parent(parent, i), end = \" \")\n",
        "\n",
        "\n",
        "print()\n",
        "\n",
        "\n",
        "\n",
        "### 부모 테이블 내용 출력\n",
        "print(\"부모 테이블: \", end = \"\")\n",
        "for i in range(1, v+1):\n",
        "    print(parent[i], end = \" \")\n",
        "\n",
        "\n",
        "print(\"\\n\\n소요 시간: %.4f(sec)\" % (time.time() - start))"
      ],
      "metadata": {
        "colab": {
          "base_uri": "https://localhost:8080/"
        },
        "id": "Cfw8ZGeM3BT1",
        "outputId": "28bb9890-c22c-4968-aced-538d9ffcb29a"
      },
      "execution_count": 4,
      "outputs": [
        {
          "output_type": "stream",
          "name": "stdout",
          "text": [
            "6 4\n",
            "1 4\n",
            "2 3\n",
            "2 4\n",
            "5 6\n",
            "각 원소가 속한 집합: 1 1 1 1 5 5 \n",
            "부모 테이블: 1 1 2 1 5 5 \n",
            "\n",
            "소요 시간: 7.7217(sec)\n"
          ]
        }
      ]
    },
    {
      "cell_type": "markdown",
      "source": [
        "### **개선된 서로소 집합 알고리즘**\n",
        "\n",
        "- find_parent 함수를 경로 압축(path compression) 기법을 적용하여 시간 복잡도 완화\n",
        "- find_parent 함수를 재귀적으로 호출한 뒤 부모 테이블값을 갱신하는 기법"
      ],
      "metadata": {
        "id": "8LQRYPa955pI"
      }
    },
    {
      "cell_type": "code",
      "source": [
        "import time\n",
        "\n",
        "### 특정한 원소가 속한 집합을 찾기\n",
        "def find_parent(parent, x):\n",
        "    if parent[x] != x:                              # 루트 노드가 아니라면, 루트 노드를 찾을 때까지 재귀적으로 호출\n",
        "        return find_parent(parent, parent[x])\n",
        "    return parent[x]\n",
        "\n",
        "\n",
        "\n",
        "### 두 원소가 속한 집합을 합치기\n",
        "def union_parent(parent, a, b):\n",
        "    a = find_parent(parent, a)\n",
        "    b = find_parent(parent, b)\n",
        "    if a < b:\n",
        "        parent[b] = a\n",
        "    else:\n",
        "        parent[a] = b\n",
        "\n",
        "\n",
        "\n",
        "### 노드의 개수와 간선(union 연산)의 개수 입력받기\n",
        "v, e = map(int, input().split())\n",
        "parent = [0] * (v+1)                                # 부모 테이블 초기화\n",
        "\n",
        "\n",
        "\n",
        "start = time.time()\n",
        "\n",
        "### 부모 테이블상에서, 부모를 자기 자신으로 초기화\n",
        "for i in range(v+1):\n",
        "    parent[i] = i\n",
        "\n",
        "\n",
        "\n",
        "### union 연산을 각각 수행\n",
        "for i in range(e):\n",
        "    a, b = map(int, input().split())\n",
        "    union_parent(parent, a, b)\n",
        "\n",
        "\n",
        "\n",
        "### 각 원소가 속한 집합 출력\n",
        "print(\"각 원소가 속한 집합: \", end = \"\")\n",
        "for i in range(1, v+1):\n",
        "    print(find_parent(parent, i), end = \" \")\n",
        "\n",
        "\n",
        "print()\n",
        "\n",
        "\n",
        "\n",
        "### 부모 테이블 내용 출력\n",
        "print(\"부모 테이블: \", end = \"\")\n",
        "for i in range(1, v+1):\n",
        "    print(parent[i], end = \" \")\n",
        "\n",
        "\n",
        "print(\"\\n\\n소요 시간: %.4f(sec)\" % (time.time() - start))"
      ],
      "metadata": {
        "colab": {
          "base_uri": "https://localhost:8080/"
        },
        "id": "wXmqRM5T4jdH",
        "outputId": "75fade49-b0be-4c87-91b8-b208d04bac90"
      },
      "execution_count": 5,
      "outputs": [
        {
          "output_type": "stream",
          "name": "stdout",
          "text": [
            "6 4\n",
            "1 4\n",
            "2 3\n",
            "2 4\n",
            "5 6\n",
            "각 원소가 속한 집합: 1 1 1 1 5 5 \n",
            "부모 테이블: 1 1 2 1 5 5 \n",
            "\n",
            "소요 시간: 7.4070(sec)\n"
          ]
        }
      ]
    },
    {
      "cell_type": "markdown",
      "source": [
        "### **서로소 집합을 활용한 사이클 판별**"
      ],
      "metadata": {
        "id": "q91XDtun6cj6"
      }
    },
    {
      "cell_type": "code",
      "source": [
        "### 특정한 원소가 속한 집합을 찾기\n",
        "def find_parent(parent, x):\n",
        "    if parent[x] != x:                              # 루트 노드가 아니라면, 루트 노드를 찾을 때까지 재귀적으로 호출\n",
        "        return find_parent(parent, parent[x])\n",
        "    return parent[x]\n",
        "\n",
        "\n",
        "\n",
        "### 두 원소가 속한 집합을 합치기\n",
        "def union_parent(parent, a, b):\n",
        "    a = find_parent(parent, a)\n",
        "    b = find_parent(parent, b)\n",
        "    if a < b:\n",
        "        parent[b] = a\n",
        "    else:\n",
        "        parent[a] = b\n",
        "\n",
        "\n",
        "\n",
        "### 노드의 개수와 간선(union 연산)의 개수 입력받기\n",
        "v, e = map(int, input().split())\n",
        "parent = [0] * (v+1)                                # 부모 테이블 초기화\n",
        "\n",
        "\n",
        "\n",
        "### 부모 테이블상에서, 부모를 자기 자신으로 초기화\n",
        "for i in range(v+1):\n",
        "    parent[i] = i\n",
        "\n",
        "\n",
        "\n",
        "### 사이클 발생 여부\n",
        "cycle = False\n",
        "\n",
        "for i in range(e):\n",
        "    a, b = map(int, input().split())\n",
        "    if find_parent(parent, a) == find_parent(parent, b):    # 사이클이 발생한 경우 종료\n",
        "        cycle = True\n",
        "        break\n",
        "    else:                                                   # 사이클이 발생하지 않았다면 합집합(union) 수행\n",
        "        union_parent(parent, a, b)\n",
        "\n",
        "\n",
        "if cycle:\n",
        "    print(\"사이클이 발생했습니다.\")\n",
        "else:\n",
        "    print(\"사이클이 발생하지 않았습니다.\")"
      ],
      "metadata": {
        "colab": {
          "base_uri": "https://localhost:8080/"
        },
        "id": "DO73Idu1-ulp",
        "outputId": "ed1f6f38-ca6a-4f54-ea09-8f3010aaf580"
      },
      "execution_count": 6,
      "outputs": [
        {
          "output_type": "stream",
          "name": "stdout",
          "text": [
            "3 3\n",
            "1 2\n",
            "1 3\n",
            "2 3\n",
            "사이클이 발생했습니다.\n"
          ]
        }
      ]
    },
    {
      "cell_type": "code",
      "source": [],
      "metadata": {
        "id": "GnyPSA0A_clQ"
      },
      "execution_count": null,
      "outputs": []
    }
  ]
}