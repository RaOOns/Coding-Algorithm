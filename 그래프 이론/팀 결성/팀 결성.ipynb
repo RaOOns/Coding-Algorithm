{
  "nbformat": 4,
  "nbformat_minor": 0,
  "metadata": {
    "colab": {
      "provenance": [],
      "authorship_tag": "ABX9TyNPEaTNxrRwWWxeN43q/97w",
      "include_colab_link": true
    },
    "kernelspec": {
      "name": "python3",
      "display_name": "Python 3"
    },
    "language_info": {
      "name": "python"
    }
  },
  "cells": [
    {
      "cell_type": "markdown",
      "metadata": {
        "id": "view-in-github",
        "colab_type": "text"
      },
      "source": [
        "<a href=\"https://colab.research.google.com/github/RaOOns/Coding-Algorithm/blob/main/%EA%B7%B8%EB%9E%98%ED%94%84%20%EC%9D%B4%EB%A1%A0/%ED%8C%80%20%EA%B2%B0%EC%84%B1/%ED%8C%80%20%EA%B2%B0%EC%84%B1.ipynb\" target=\"_parent\"><img src=\"https://colab.research.google.com/assets/colab-badge.svg\" alt=\"Open In Colab\"/></a>"
      ]
    },
    {
      "cell_type": "code",
      "execution_count": 1,
      "metadata": {
        "colab": {
          "base_uri": "https://localhost:8080/"
        },
        "id": "pO7cqHo7X72t",
        "outputId": "516be5cd-6711-443f-db66-0356ea35af02"
      },
      "outputs": [
        {
          "output_type": "stream",
          "name": "stdout",
          "text": [
            "7 8\n",
            "0 1 3\n",
            "1 1 7\n",
            "NO\n",
            "0 7 6\n",
            "1 7 1\n",
            "NO\n",
            "0 3 7\n",
            "0 4 2\n",
            "0 1 1\n",
            "1 1 1\n",
            "YES\n"
          ]
        }
      ],
      "source": [
        "### 특정 원소가 속한 집합을 찾기\n",
        "def find_parent(parent, x):\n",
        "    if parent[x] != x:\n",
        "        parent[x] = find_parent(parent, parent[x])\n",
        "    return parent[x]\n",
        "\n",
        "\n",
        "\n",
        "### 두 원소가 속한 집합을 합치기\n",
        "def union_parent(parent, a, b):\n",
        "    a = find_parent(parent, a)\n",
        "    b = find_parent(parent, b)\n",
        "    if a < b:\n",
        "        parent[b] = a\n",
        "    else:\n",
        "        parent[a] = b\n",
        "\n",
        "\n",
        "n, m = map(int, input().split())\n",
        "parent = [0] * (n+1)    # 부모 테이블 초기화\n",
        "\n",
        "\n",
        "\n",
        "### 부모 테이블상에서, 부모를 자기 자신으로 초기화\n",
        "for i in range(0, n+1):\n",
        "    parent[i] = i\n",
        "\n",
        "\n",
        "\n",
        "### 각 연산을 하나씩 확인\n",
        "for i in range(m):\n",
        "    oper, a, b = map(int, input().split())\n",
        "\n",
        "    if oper == 0:\n",
        "        union_parent(parent, a, b)\n",
        "    elif oper == 1:\n",
        "        if find_parent(parent, a) == find_parent(parent, b):\n",
        "            print(\"YES\")\n",
        "        else:\n",
        "            print(\"NO\")"
      ]
    },
    {
      "cell_type": "code",
      "source": [],
      "metadata": {
        "id": "Z3f3kzejZkdu"
      },
      "execution_count": null,
      "outputs": []
    }
  ]
}