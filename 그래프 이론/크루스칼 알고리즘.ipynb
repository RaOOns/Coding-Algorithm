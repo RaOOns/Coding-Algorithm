{
  "nbformat": 4,
  "nbformat_minor": 0,
  "metadata": {
    "colab": {
      "provenance": [],
      "authorship_tag": "ABX9TyMBufE7eJ7wUuJRHwRixoha",
      "include_colab_link": true
    },
    "kernelspec": {
      "name": "python3",
      "display_name": "Python 3"
    },
    "language_info": {
      "name": "python"
    }
  },
  "cells": [
    {
      "cell_type": "markdown",
      "metadata": {
        "id": "view-in-github",
        "colab_type": "text"
      },
      "source": [
        "<a href=\"https://colab.research.google.com/github/RaOOns/Coding-Algorithm/blob/main/%EA%B7%B8%EB%9E%98%ED%94%84%20%EC%9D%B4%EB%A1%A0/%ED%81%AC%EB%A3%A8%EC%8A%A4%EC%B9%BC%20%EC%95%8C%EA%B3%A0%EB%A6%AC%EC%A6%98.ipynb\" target=\"_parent\"><img src=\"https://colab.research.google.com/assets/colab-badge.svg\" alt=\"Open In Colab\"/></a>"
      ]
    },
    {
      "cell_type": "code",
      "execution_count": 1,
      "metadata": {
        "colab": {
          "base_uri": "https://localhost:8080/"
        },
        "id": "VyEA_aJxHpQc",
        "outputId": "6eebcf49-4ccc-4e73-ce83-d2118f2f5d45"
      },
      "outputs": [
        {
          "output_type": "stream",
          "name": "stdout",
          "text": [
            "7 9\n",
            "1 2 29\n",
            "1 5 75\n",
            "2 3 35\n",
            "2 6 34\n",
            "3 4 7\n",
            "4 6 23\n",
            "4 7 13\n",
            "5 6 53\n",
            "6 7 25\n",
            "159\n"
          ]
        }
      ],
      "source": [
        "### 특정한 원소가 속한 집합을 찾기\n",
        "def find_parent(parent, x):\n",
        "    if parent[x] != x:                              # 루트 노드가 아니라면, 루트 노드를 찾을 때까지 재귀적으로 호출\n",
        "        return find_parent(parent, parent[x])\n",
        "    return parent[x]\n",
        "\n",
        "\n",
        "\n",
        "### 두 원소가 속한 집합을 합치기\n",
        "def union_parent(parent, a, b):\n",
        "    a = find_parent(parent, a)\n",
        "    b = find_parent(parent, b)\n",
        "    if a < b:\n",
        "        parent[b] = a\n",
        "    else:\n",
        "        parent[a] = b\n",
        "\n",
        "\n",
        "\n",
        "### 노드의 개수와 간선(union 연산)의 개수 입력받기\n",
        "v, e = map(int, input().split())\n",
        "parent = [0] * (v+1)                                # 부모 테이블 초기화\n",
        "\n",
        "\n",
        "### 모든 간선을 담을 리스트와 최종 비용을 담을 변수\n",
        "edges = []\n",
        "result = 0\n",
        "\n",
        "\n",
        "\n",
        "### 부모 테이블상에서, 부모를 자기 자신으로 초기화\n",
        "for i in range(v+1):\n",
        "    parent[i] = i\n",
        "\n",
        "\n",
        "\n",
        "### 모든 간선에 대한 정보를 입력받기\n",
        "for _ in range(e):\n",
        "    a, b, cost = map(int, input().split())\n",
        "    edges.append((cost, a, b))                  # 비용순으로 정렬하기 위해서 튜플의 첫 번째 원소를 비용으로 설정\n",
        "\n",
        "\n",
        "edges.sort()                                    # 간선을 비용순으로 정렬\n",
        "\n",
        "\n",
        "\n",
        "### 간선을 하나씩 확인하며\n",
        "for edge in edges:\n",
        "    cost, a, b = edge\n",
        "\n",
        "    if find_parent(parent, a) != find_parent(parent, b):    # 사이클이 발생하지 않는 경우에만 집합에 포함\n",
        "        union_parent(parent, a, b)\n",
        "        result += cost\n",
        "\n",
        "print(result)"
      ]
    },
    {
      "cell_type": "code",
      "source": [],
      "metadata": {
        "id": "nd4RzbfcIcja"
      },
      "execution_count": null,
      "outputs": []
    }
  ]
}