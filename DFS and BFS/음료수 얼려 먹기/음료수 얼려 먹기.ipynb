{
  "nbformat": 4,
  "nbformat_minor": 0,
  "metadata": {
    "colab": {
      "provenance": [],
      "authorship_tag": "ABX9TyMETzxka1hQfnWMGfLs0TRK",
      "include_colab_link": true
    },
    "kernelspec": {
      "name": "python3",
      "display_name": "Python 3"
    },
    "language_info": {
      "name": "python"
    }
  },
  "cells": [
    {
      "cell_type": "markdown",
      "metadata": {
        "id": "view-in-github",
        "colab_type": "text"
      },
      "source": [
        "<a href=\"https://colab.research.google.com/github/RaOOns/Coding-Algorithm/blob/main/DFS%20and%20BFS/%EC%9D%8C%EB%A3%8C%EC%88%98%20%EC%96%BC%EB%A0%A4%20%EB%A8%B9%EA%B8%B0/%EC%9D%8C%EB%A3%8C%EC%88%98%20%EC%96%BC%EB%A0%A4%20%EB%A8%B9%EA%B8%B0.ipynb\" target=\"_parent\"><img src=\"https://colab.research.google.com/assets/colab-badge.svg\" alt=\"Open In Colab\"/></a>"
      ]
    },
    {
      "cell_type": "markdown",
      "source": [
        "### **답안 예시**\n",
        "\n",
        "- 나만의 해설\n",
        "    - 0인 부분을 일단 찾고 주변을 모두 1로 바꾼 뒤 result += 1\n",
        "    - 이렇게 되면 찾은 0과 연결된 0은 모두 1로 변환\n",
        "    - 다음으로 찾은 0은 이전의 0과는 연결 안된 0이므로 위 과정을 통해 result += 1\n",
        "    - 이 과정으로 모든 부분이 1이 되면 종료\n"
      ],
      "metadata": {
        "id": "YhvVKM18FNCv"
      }
    },
    {
      "cell_type": "code",
      "execution_count": 4,
      "metadata": {
        "colab": {
          "base_uri": "https://localhost:8080/"
        },
        "id": "yNpv8b40Dm9a",
        "outputId": "9287cc1f-c71a-4c6d-d048-fe55ea714255"
      },
      "outputs": [
        {
          "output_type": "stream",
          "name": "stdout",
          "text": [
            "4 5\n",
            "00110\n",
            "00011\n",
            "11111\n",
            "00000\n",
            "3\n"
          ]
        }
      ],
      "source": [
        "# N, M울 공백으로 구분하여 입력받기\n",
        "n,m  = map(int, input().split())\n",
        "\n",
        "\n",
        "# 2차원 리스트의 맵 정보 입력받기\n",
        "graph = []\n",
        "for i in range(n):\n",
        "    graph.append(list(map(int, input())))\n",
        "\n",
        "\n",
        "# DFS로 특정 노드를 방문한 뒤에 연결된 모드 노드들도 방문.\n",
        "def dfs(x, y):\n",
        "    # 주어진 범위를 벗어나는 경우에는 즉시 종료\n",
        "    if x <= -1 or x >= n or y <= -1 or y >= m:\n",
        "        return False\n",
        "\n",
        "    # 현재 노드를 아직 방문하지 않았다면\n",
        "    if graph[x][y] == 0:\n",
        "        # 해당 노드 방문 처리\n",
        "        graph[x][y] = 1\n",
        "\n",
        "        # 상하좌우의 위치도 모두 재귀적으로 호출\n",
        "        dfs(x-1, y)\n",
        "        dfs(x, y-1)\n",
        "        dfs(x+1, y)\n",
        "        dfs(x, y+1)\n",
        "        return True\n",
        "    return False\n",
        "\n",
        "\n",
        "\n",
        "# 모든 노드(위치)에 대하여 음료수 채우기\n",
        "result = 0\n",
        "for i in range(n):\n",
        "    for j in range(m):\n",
        "        # 현재 위치에서 dfs 수행\n",
        "        if dfs(i, j) == True:\n",
        "            result += 1\n",
        "\n",
        "print(result)"
      ]
    }
  ]
}