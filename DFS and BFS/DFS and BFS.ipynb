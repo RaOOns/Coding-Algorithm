{
  "nbformat": 4,
  "nbformat_minor": 0,
  "metadata": {
    "colab": {
      "provenance": [],
      "authorship_tag": "ABX9TyOT93BB3D88K6kePENgrDnV",
      "include_colab_link": true
    },
    "kernelspec": {
      "name": "python3",
      "display_name": "Python 3"
    },
    "language_info": {
      "name": "python"
    }
  },
  "cells": [
    {
      "cell_type": "markdown",
      "metadata": {
        "id": "view-in-github",
        "colab_type": "text"
      },
      "source": [
        "<a href=\"https://colab.research.google.com/github/RaOOns/Coding-Algorithm/blob/main/DFS%20and%20BFS/DFS%20and%20BFS.ipynb\" target=\"_parent\"><img src=\"https://colab.research.google.com/assets/colab-badge.svg\" alt=\"Open In Colab\"/></a>"
      ]
    },
    {
      "cell_type": "markdown",
      "source": [
        "## **기초**"
      ],
      "metadata": {
        "id": "QFt_wtcl-EG3"
      }
    },
    {
      "cell_type": "markdown",
      "source": [
        "### **Stack 예제**"
      ],
      "metadata": {
        "id": "tZTb4X9Y7N6G"
      }
    },
    {
      "cell_type": "code",
      "source": [
        "stack = []\n",
        "\n",
        "# 삽입(5-2-3-7) - 삭제() - 삽입(1-4) - 삭제()\n",
        "stack.append(5)\n",
        "stack.append(2)\n",
        "stack.append(3)\n",
        "stack.append(7)\n",
        "stack.pop()\n",
        "stack.append(1)\n",
        "stack.append(4)\n",
        "stack.pop()\n",
        "\n",
        "print(stack)        # 최하단 원소부터 출력\n",
        "print(stack[::-1])  # 최상단 원소부터 출력"
      ],
      "metadata": {
        "colab": {
          "base_uri": "https://localhost:8080/"
        },
        "id": "N1FxkuKU7m5F",
        "outputId": "b46c31ee-f5a7-42f3-bc73-7c15bdf9fd51"
      },
      "execution_count": 1,
      "outputs": [
        {
          "output_type": "stream",
          "name": "stdout",
          "text": [
            "[5, 2, 3, 1]\n",
            "[1, 3, 2, 5]\n"
          ]
        }
      ]
    },
    {
      "cell_type": "markdown",
      "source": [
        "### **Queue 예제**"
      ],
      "metadata": {
        "id": "jte8Q4gl792Y"
      }
    },
    {
      "cell_type": "code",
      "source": [
        "from collections import deque\n",
        "\n",
        "# 큐(queue) 구현을 위해 deque 라이브러리 사용\n",
        "queue = deque()\n",
        "\n",
        "\n",
        "# 삽입(5-2-3-7) - 삭제() - 삽입(1-4) - 삭제()\n",
        "queue.append(5)\n",
        "queue.append(2)\n",
        "queue.append(3)\n",
        "queue.append(7)\n",
        "queue.popleft()\n",
        "queue.append(1)\n",
        "queue.append(4)\n",
        "queue.popleft()\n",
        "\n",
        "\n",
        "print(queue)            # 먼저 들어온 순서대로 출력\n",
        "queue.reverse()\n",
        "print(queue)            # 나중에 들어온 순서대로 출력\n",
        "print(list(queue))      # 리스트 형태로 출력"
      ],
      "metadata": {
        "colab": {
          "base_uri": "https://localhost:8080/"
        },
        "id": "UW0lrfWs8BOr",
        "outputId": "9e589706-62a4-4c57-ecb0-b4d59dfbf45f"
      },
      "execution_count": 3,
      "outputs": [
        {
          "output_type": "stream",
          "name": "stdout",
          "text": [
            "deque([3, 7, 1, 4])\n",
            "deque([4, 1, 7, 3])\n",
            "[4, 1, 7, 3]\n"
          ]
        }
      ]
    },
    {
      "cell_type": "markdown",
      "source": [
        "### **재귀 함수 예제**"
      ],
      "metadata": {
        "id": "qdT9NEzL8kWw"
      }
    },
    {
      "cell_type": "code",
      "source": [
        "def recursive_func(i):\n",
        "    if i == 10:        # 종료 조건 명시\n",
        "        return\n",
        "    print(i, \"번째 재귀함수에서\", i+1, \"번째 재귀함수를 호출합니다.\")\n",
        "    recursive_func(i+1)\n",
        "    print(i, \"번째 재귀 함수를 종료합니다.\")\n",
        "\n",
        "recursive_func(1)"
      ],
      "metadata": {
        "colab": {
          "base_uri": "https://localhost:8080/"
        },
        "id": "n4u5Xm5q8u24",
        "outputId": "58da599a-1269-4baa-b629-1cd7351a15e6"
      },
      "execution_count": 5,
      "outputs": [
        {
          "output_type": "stream",
          "name": "stdout",
          "text": [
            "1 번째 재귀함수에서 2 번째 재귀함수를 호출합니다.\n",
            "2 번째 재귀함수에서 3 번째 재귀함수를 호출합니다.\n",
            "3 번째 재귀함수에서 4 번째 재귀함수를 호출합니다.\n",
            "4 번째 재귀함수에서 5 번째 재귀함수를 호출합니다.\n",
            "5 번째 재귀함수에서 6 번째 재귀함수를 호출합니다.\n",
            "6 번째 재귀함수에서 7 번째 재귀함수를 호출합니다.\n",
            "7 번째 재귀함수에서 8 번째 재귀함수를 호출합니다.\n",
            "8 번째 재귀함수에서 9 번째 재귀함수를 호출합니다.\n",
            "9 번째 재귀함수에서 10 번째 재귀함수를 호출합니다.\n",
            "9 번째 재귀 함수를 종료합니다.\n",
            "8 번째 재귀 함수를 종료합니다.\n",
            "7 번째 재귀 함수를 종료합니다.\n",
            "6 번째 재귀 함수를 종료합니다.\n",
            "5 번째 재귀 함수를 종료합니다.\n",
            "4 번째 재귀 함수를 종료합니다.\n",
            "3 번째 재귀 함수를 종료합니다.\n",
            "2 번째 재귀 함수를 종료합니다.\n",
            "1 번째 재귀 함수를 종료합니다.\n"
          ]
        }
      ]
    },
    {
      "cell_type": "code",
      "source": [
        "# 반복적으로 구현한 n!\n",
        "def factorial_iterative(n):\n",
        "    result = 1\n",
        "    for i in range(1, n+1):\n",
        "        result *= i\n",
        "    return result\n",
        "\n",
        "\n",
        "# 재귀적으로 구현한 n!\n",
        "def factorial_recursive(n):\n",
        "    if n <= 1:\n",
        "        return 1\n",
        "    return n * factorial_recursive(n-1)\n",
        "\n",
        "\n",
        "# 각 방식의 결과\n",
        "print(\"반복적으로 구현:\", factorial_iterative(5))\n",
        "print(\"재귀적으로 구현:\", factorial_recursive(5))\n"
      ],
      "metadata": {
        "colab": {
          "base_uri": "https://localhost:8080/"
        },
        "id": "hC0rulSA9JoU",
        "outputId": "c295a858-7309-48f6-8f77-ab194cacd390"
      },
      "execution_count": 6,
      "outputs": [
        {
          "output_type": "stream",
          "name": "stdout",
          "text": [
            "반복적으로 구현: 120\n",
            "재귀적으로 구현: 120\n"
          ]
        }
      ]
    },
    {
      "cell_type": "markdown",
      "source": [
        "## **DFS and BFS**"
      ],
      "metadata": {
        "id": "bVep6rF297mc"
      }
    },
    {
      "cell_type": "markdown",
      "source": [
        "### **인접 행렬과 인접 리스트**"
      ],
      "metadata": {
        "id": "WiixgO0u-JZU"
      }
    },
    {
      "cell_type": "code",
      "source": [
        "INF = 999999999\n",
        "\n",
        "# 2차원 리스트를 이용해 인접 행렬 표현\n",
        "graph = [[0, 7, 4],\n",
        "         [7, 0 , INF],\n",
        "         [5, INF, 0]]\n",
        "print(graph)\n",
        "\n",
        "\n",
        "\n",
        "# 행이 3개인 2차원 리스트로 인접 리스트 표현\n",
        "graph2 = [[] for _ in range(3)]\n",
        "\n",
        "graph2[0].append((1, 7))\n",
        "graph2[0].append((2, 5))\n",
        "graph2[1].append((0, 7))\n",
        "graph2[2].append((0, 5))\n",
        "print(graph2)"
      ],
      "metadata": {
        "colab": {
          "base_uri": "https://localhost:8080/"
        },
        "id": "C1AcVSog-Kqx",
        "outputId": "931db943-9e2f-42ac-a7a0-f5fa67c512b7"
      },
      "execution_count": 7,
      "outputs": [
        {
          "output_type": "stream",
          "name": "stdout",
          "text": [
            "[[0, 7, 4], [7, 0, 999999999], [5, 999999999, 0]]\n",
            "[[(1, 7), (2, 5)], [(0, 7)], [(0, 5)]]\n"
          ]
        }
      ]
    },
    {
      "cell_type": "markdown",
      "source": [
        "### **DFS 예제**"
      ],
      "metadata": {
        "id": "oj2nsBCV-7qV"
      }
    },
    {
      "cell_type": "code",
      "source": [
        "# DFS 메서드 정의\n",
        "def dfs(graph, v, visited):\n",
        "    # 현재 노드를 방문 처리\n",
        "    visited[v] = True\n",
        "    print(v, end = \"\")\n",
        "\n",
        "    # 현재 노드와 연결된 다른 노드를 재귀적으로 방문\n",
        "    for i in graph[v]:\n",
        "        if not visited[i]:\n",
        "            dfs(graph, i, visited)\n",
        "\n",
        "\n",
        "# 각 노드가 연결된 정보를 리스트 자료형으로 표현(2차원 리스트)\n",
        "graph = [[], [2, 3, 8], [1, 7], [1, 4 ,5], [3, 5], [3, 4], [7], [2, 6, 8], [1, 7]]\n",
        "\n",
        "# 각 노드가 방문된 정보를 리스트 자료형으로 표현(1차원 리스트)\n",
        "visited = [False] * 9\n",
        "\n",
        "# 정의된 DFS 함수 호출\n",
        "dfs(graph, 1, visited)"
      ],
      "metadata": {
        "colab": {
          "base_uri": "https://localhost:8080/"
        },
        "id": "zjoKnvQn_Bbw",
        "outputId": "585cd4d8-509a-4ac6-d0ad-9f80984b4fb1"
      },
      "execution_count": 8,
      "outputs": [
        {
          "output_type": "stream",
          "name": "stdout",
          "text": [
            "12768345"
          ]
        }
      ]
    },
    {
      "cell_type": "markdown",
      "source": [
        "### **BFS 예제**"
      ],
      "metadata": {
        "id": "vm8H3QpP_2xP"
      }
    },
    {
      "cell_type": "code",
      "source": [
        "from collections import deque\n",
        "\n",
        "# BFS 메서드 정의\n",
        "def bfs(graph, start, visited):\n",
        "    # 큐 구현을 위해 deque 라이브러리 사용\n",
        "    queue = deque([start])\n",
        "\n",
        "    # 현재 노드를 방문 처리\n",
        "    visited[start] = True\n",
        "\n",
        "    # 큐가 빌 때까지 반복\n",
        "    while queue:\n",
        "        # 큐에서 하나의 원소를 뽑아 출력\n",
        "        v = queue.popleft()\n",
        "        print(v, end = \"\")\n",
        "        # 해당 원소와 연결된, 아직 방문하지 않은 원소들을 큐에 삽입\n",
        "        for i in graph[v]:\n",
        "            if not visited[i]:\n",
        "                queue.append(i)\n",
        "                visited[i] = True\n",
        "\n",
        "\n",
        "# 각 노드가 연결된 정보를 리스트 자료형으로 표현(2차원 리스트)\n",
        "graph = [[], [2, 3, 8], [1, 7], [1, 4 ,5], [3, 5], [3, 4], [7], [2, 6, 8], [1, 7]]\n",
        "\n",
        "# 각 노드가 방문된 정보를 리스트 자료형으로 표현(1차원 리스트)\n",
        "visited = [False] * 9\n",
        "\n",
        "# 정의된 DFS 함수 호출\n",
        "bfs(graph, 1, visited)"
      ],
      "metadata": {
        "colab": {
          "base_uri": "https://localhost:8080/"
        },
        "id": "IDZdvKrFANmm",
        "outputId": "b2e53259-d90d-4083-da91-58d6d9d313d3"
      },
      "execution_count": 9,
      "outputs": [
        {
          "output_type": "stream",
          "name": "stdout",
          "text": [
            "12387456"
          ]
        }
      ]
    },
    {
      "cell_type": "code",
      "source": [],
      "metadata": {
        "id": "a1VnkXCwBC7m"
      },
      "execution_count": null,
      "outputs": []
    }
  ]
}