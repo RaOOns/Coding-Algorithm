{
  "nbformat": 4,
  "nbformat_minor": 0,
  "metadata": {
    "colab": {
      "provenance": [],
      "authorship_tag": "ABX9TyPLZk+lzw3/PcwdVctdzJzd",
      "include_colab_link": true
    },
    "kernelspec": {
      "name": "python3",
      "display_name": "Python 3"
    },
    "language_info": {
      "name": "python"
    }
  },
  "cells": [
    {
      "cell_type": "markdown",
      "metadata": {
        "id": "view-in-github",
        "colab_type": "text"
      },
      "source": [
        "<a href=\"https://colab.research.google.com/github/RaOOns/Coding-Algorithm/blob/main/%EB%8B%A4%EC%9D%B4%EB%82%98%EB%AF%B9%20%ED%94%84%EB%A1%9C%EA%B7%B8%EB%9E%98%EB%B0%8D/%ED%9A%A8%EC%9C%A8%EC%A0%81%EC%9D%B8%20%ED%99%94%ED%8F%90%20%EA%B5%AC%EC%84%B1/%ED%9A%A8%EC%9C%A8%EC%A0%81%EC%9D%B8%20%ED%99%94%ED%8F%90%20%EA%B5%AC%EC%84%B1.ipynb\" target=\"_parent\"><img src=\"https://colab.research.google.com/assets/colab-badge.svg\" alt=\"Open In Colab\"/></a>"
      ]
    },
    {
      "cell_type": "code",
      "execution_count": 1,
      "metadata": {
        "colab": {
          "base_uri": "https://localhost:8080/"
        },
        "id": "haQWO41Eskfz",
        "outputId": "60b14ee2-a9b1-4240-9aaf-8f5c573500fb"
      },
      "outputs": [
        {
          "output_type": "stream",
          "name": "stdout",
          "text": [
            "2 15\n",
            "2\n",
            "3\n",
            "5\n"
          ]
        }
      ],
      "source": [
        "# 정수 N, M을 입력받기\n",
        "n, m = map(int, input().split())\n",
        "\n",
        "# N개의 화폐 단위 정보를 입력받기\n",
        "array = []\n",
        "for i in range(n):\n",
        "    array.append(int(input()))\n",
        "\n",
        "\n",
        "# 한 번에 계산된 결과를 저장하기 위한 DP 테이블 초기화\n",
        "d = [10001] * (m + 1)\n",
        "\n",
        "\n",
        "# 다이나믹 프로그래밍 진행(보텀업)\n",
        "d[0] = 0\n",
        "\n",
        "for i in range(n):\n",
        "    for j in range(array[i], m + 1):\n",
        "        if d[j - array[i]] != 10001:                    # (i-k)원을 만드는 방법이 존재하는 경우(없어도 되지만, 이해를 돕기 위한 코드 줄)\n",
        "            d[j] = min(d[j], d[j - array[i]] + 1)\n",
        "\n",
        "\n",
        "# 계산된 결과 출력\n",
        "if d[m] == 10001:       # 최종적으로 M원을 만드든 방법이 없을 경우\n",
        "    print(-1)\n",
        "else:\n",
        "    print(d[m])"
      ]
    },
    {
      "cell_type": "code",
      "source": [
        "# 정수 N, M을 입력받기\n",
        "n, m = map(int, input().split())\n",
        "\n",
        "# N개의 화폐 단위 정보를 입력받기\n",
        "array = []\n",
        "for i in range(n):\n",
        "    array.append(int(input()))\n",
        "\n",
        "\n",
        "# 한 번에 계산된 결과를 저장하기 위한 DP 테이블 초기화\n",
        "d = [10001] * (m + 1)\n",
        "\n",
        "\n",
        "# 다이나믹 프로그래밍 진행(보텀업)\n",
        "d[0] = 0\n",
        "\n",
        "for i in range(n):\n",
        "    for j in range(array[i], m + 1):\n",
        "        if d[j - array[i]] != 10001:                    # (i-k)원을 만드는 방법이 존재하는 경우(없어도 되지만, 이해를 돕기 위한 코드 줄)\n",
        "            d[j] = min(d[j], d[j - array[i]] + 1)\n",
        "\n",
        "\n",
        "# 계산된 결과 출력\n",
        "if d[m] == 10001:       # 최종적으로 M원을 만드든 방법이 없을 경우\n",
        "    print(-1)\n",
        "else:\n",
        "    print(d[m])"
      ],
      "metadata": {
        "colab": {
          "base_uri": "https://localhost:8080/"
        },
        "id": "IJLglp75tnW5",
        "outputId": "d331bce4-07d9-476d-d2c3-9d0e0eb09862"
      },
      "execution_count": 4,
      "outputs": [
        {
          "output_type": "stream",
          "name": "stdout",
          "text": [
            "3 4\n",
            "3\n",
            "5\n",
            "7\n",
            "-1\n"
          ]
        }
      ]
    },
    {
      "cell_type": "code",
      "source": [],
      "metadata": {
        "id": "Z5NH01OyttSr"
      },
      "execution_count": null,
      "outputs": []
    }
  ]
}