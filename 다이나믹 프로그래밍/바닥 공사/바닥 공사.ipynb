{
  "nbformat": 4,
  "nbformat_minor": 0,
  "metadata": {
    "colab": {
      "provenance": [],
      "authorship_tag": "ABX9TyO3lSEIDYMDt8WzTXUhQqN4",
      "include_colab_link": true
    },
    "kernelspec": {
      "name": "python3",
      "display_name": "Python 3"
    },
    "language_info": {
      "name": "python"
    }
  },
  "cells": [
    {
      "cell_type": "markdown",
      "metadata": {
        "id": "view-in-github",
        "colab_type": "text"
      },
      "source": [
        "<a href=\"https://colab.research.google.com/github/RaOOns/Coding-Algorithm/blob/main/%EB%8B%A4%EC%9D%B4%EB%82%98%EB%AF%B9%20%ED%94%84%EB%A1%9C%EA%B7%B8%EB%9E%98%EB%B0%8D/%EB%B0%94%EB%8B%A5%20%EA%B3%B5%EC%82%AC/%EB%B0%94%EB%8B%A5%20%EA%B3%B5%EC%82%AC.ipynb\" target=\"_parent\"><img src=\"https://colab.research.google.com/assets/colab-badge.svg\" alt=\"Open In Colab\"/></a>"
      ]
    },
    {
      "cell_type": "code",
      "execution_count": 1,
      "metadata": {
        "colab": {
          "base_uri": "https://localhost:8080/"
        },
        "id": "Olcaslfdo8Ea",
        "outputId": "b4f09ad7-f46e-4fd1-8363-cc30a285da0a"
      },
      "outputs": [
        {
          "output_type": "stream",
          "name": "stdout",
          "text": [
            "3\n",
            "5\n"
          ]
        }
      ],
      "source": [
        "# 정수 N을 입력받기\n",
        "n = int(input())\n",
        "\n",
        "# 앞서 계산된 경과를 저장하기 위한 DP 테이블 초기화\n",
        "d = [0] * 1001\n",
        "\n",
        "\n",
        "# 다이나믹 프로그래밍 진행(보텀업)\n",
        "d[1] = 1\n",
        "d[2] = 3\n",
        "\n",
        "for i in range(3, n+1):\n",
        "    d[i] = (d[i-1] + 2 * d[i-2]) % 796796\n",
        "\n",
        "\n",
        "# 계산된 결과 출력\n",
        "print(d[n])"
      ]
    },
    {
      "cell_type": "code",
      "source": [],
      "metadata": {
        "id": "bK3eTXKHpYP7"
      },
      "execution_count": null,
      "outputs": []
    }
  ]
}