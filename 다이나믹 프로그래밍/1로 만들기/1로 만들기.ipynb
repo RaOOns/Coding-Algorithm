{
  "nbformat": 4,
  "nbformat_minor": 0,
  "metadata": {
    "colab": {
      "provenance": [],
      "authorship_tag": "ABX9TyO41M6KZtU1tM1FcKNHlj7U",
      "include_colab_link": true
    },
    "kernelspec": {
      "name": "python3",
      "display_name": "Python 3"
    },
    "language_info": {
      "name": "python"
    }
  },
  "cells": [
    {
      "cell_type": "markdown",
      "metadata": {
        "id": "view-in-github",
        "colab_type": "text"
      },
      "source": [
        "<a href=\"https://colab.research.google.com/github/RaOOns/Coding-Algorithm/blob/main/%EB%8B%A4%EC%9D%B4%EB%82%98%EB%AF%B9%20%ED%94%84%EB%A1%9C%EA%B7%B8%EB%9E%98%EB%B0%8D/1%EB%A1%9C%20%EB%A7%8C%EB%93%A4%EA%B8%B0/1%EB%A1%9C%20%EB%A7%8C%EB%93%A4%EA%B8%B0.ipynb\" target=\"_parent\"><img src=\"https://colab.research.google.com/assets/colab-badge.svg\" alt=\"Open In Colab\"/></a>"
      ]
    },
    {
      "cell_type": "code",
      "execution_count": 3,
      "metadata": {
        "colab": {
          "base_uri": "https://localhost:8080/"
        },
        "id": "AVbWiuvMd19m",
        "outputId": "f12c294f-0a4b-4b6d-8119-2c8b2a6d06a5"
      },
      "outputs": [
        {
          "output_type": "stream",
          "name": "stdout",
          "text": [
            "26\n",
            "3\n"
          ]
        }
      ],
      "source": [
        "# 정수 X를 입력받기\n",
        "x = int(input())\n",
        "\n",
        "\n",
        "# 앞서 계산된 결과를 저장하기 위한 DP 테이블 초기화\n",
        "d = [0] * 30001\n",
        "\n",
        "\n",
        "# 다이나믹 프로그래밍 진행(보텀업)\n",
        "for i in range(2, x + 1):\n",
        "    d[i] = d[i-1] + 1                       # 현재의 수에서 1을 빼는 경우\n",
        "\n",
        "    if i % 2 == 0:                          # 현재의 수가 2로 나누어 떨어지는 경우\n",
        "        d[i] = min(d[i], d[i // 2] + 1)\n",
        "\n",
        "    if i % 3 == 0:                          # 현재의 수가 3로 나누어 떨어지는 경우\n",
        "        d[i] = min(d[i], d[i // 3] + 1)\n",
        "\n",
        "    if i % 5 == 0:                          # 현재의 수가 5로 나누어 떨어지는 경우\n",
        "        d[i] = min(d[i], d[i // 5] + 1)\n",
        "\n",
        "print(d[x])"
      ]
    },
    {
      "cell_type": "code",
      "source": [],
      "metadata": {
        "id": "p7GPc4aBe_dR"
      },
      "execution_count": null,
      "outputs": []
    }
  ]
}