{
  "nbformat": 4,
  "nbformat_minor": 0,
  "metadata": {
    "colab": {
      "provenance": [],
      "authorship_tag": "ABX9TyOkmlPZWX6bEu3IYa4z6E1+",
      "include_colab_link": true
    },
    "kernelspec": {
      "name": "python3",
      "display_name": "Python 3"
    },
    "language_info": {
      "name": "python"
    }
  },
  "cells": [
    {
      "cell_type": "markdown",
      "metadata": {
        "id": "view-in-github",
        "colab_type": "text"
      },
      "source": [
        "<a href=\"https://colab.research.google.com/github/RaOOns/Coding-Algorithm/blob/main/%EB%8B%A4%EC%9D%B4%EB%82%98%EB%AF%B9%20%ED%94%84%EB%A1%9C%EA%B7%B8%EB%9E%98%EB%B0%8D/Dynamic%20programming.ipynb\" target=\"_parent\"><img src=\"https://colab.research.google.com/assets/colab-badge.svg\" alt=\"Open In Colab\"/></a>"
      ]
    },
    {
      "cell_type": "code",
      "source": [
        "import time"
      ],
      "metadata": {
        "id": "XHjpet0vSfDD"
      },
      "execution_count": 7,
      "outputs": []
    },
    {
      "cell_type": "markdown",
      "source": [
        "### **피보나치 함수 소스코드**\n",
        "- 문제점: f(n) 함수에서 n이 커질수록 수행 시간이 기하급수적으로 증가\n",
        "- 시간 복잡도: O(2^N)"
      ],
      "metadata": {
        "id": "r1E1HlKpQB_R"
      }
    },
    {
      "cell_type": "code",
      "source": [
        "# Fibonacci Function을 재귀 함수로 구현\n",
        "def fibo(x):\n",
        "    if x == 1 or x == 2:\n",
        "        return 1\n",
        "    return fibo(x-1) + fibo(x-2)\n",
        "\n",
        "\n",
        "start = time.time()\n",
        "print(\"%d의 피보나치 수열 결과: %d | 소요시간: %.4f(sec)\" % (4, fibo(4), time.time() - start))\n",
        "\n",
        "start = time.time()\n",
        "print(\"%d의 피보나치 수열 결과: %d | 소요시간: %.4f(sec)\" % (30, fibo(30), time.time() - start))"
      ],
      "metadata": {
        "id": "sAi2My5qQI0X",
        "colab": {
          "base_uri": "https://localhost:8080/"
        },
        "outputId": "f2ee1f9e-2ccd-4d5e-952f-10691bd53802"
      },
      "execution_count": 20,
      "outputs": [
        {
          "output_type": "stream",
          "name": "stdout",
          "text": [
            "4의 피보나치 수열 결과: 3 | 소요시간: 0.0001(sec)\n",
            "30의 피보나치 수열 결과: 832040 | 소요시간: 0.1249(sec)\n"
          ]
        }
      ]
    },
    {
      "cell_type": "markdown",
      "source": [
        "### **피보나치 수열 소스코드(재귀적)**\n",
        "- 시간 복잡도: O(N)"
      ],
      "metadata": {
        "id": "GJniAioiRq6X"
      }
    },
    {
      "cell_type": "code",
      "source": [
        "# 한 번 계산된 결과를 메모제이션하기 위한 리스트 초기화\n",
        "d = [0] * 100\n",
        "\n",
        "\n",
        "# Fibonacci Function을 재귀함수로 구현(탑다운 다이나믹 프로그래밍)\n",
        "def fibo(x):\n",
        "    # 종료 조건(1 혹은 2일 때 1을 반환)\n",
        "    if x == 1 or x == 2:\n",
        "        return 1\n",
        "\n",
        "    # 이미 계산한 적 있는 문제라면 그대로 반환\n",
        "    if d[x] != 0:\n",
        "        return d[x]\n",
        "\n",
        "    # 아직 계산하지 않은 문제라면 점화식에 따라서 피보나치 결과 반환\n",
        "    d[x] = fibo(x-1) + fibo(x-2)\n",
        "    return d[x]\n",
        "\n",
        "\n",
        "start = time.time()\n",
        "print(\"%d의 피보나치 수열 결과: %d | 소요시간: %.4f(sec)\" % (4, fibo(4), time.time() - start))\n",
        "\n",
        "start = time.time()\n",
        "print(\"%d의 피보나치 수열 결과: %d | 소요시간: %.4f(sec)\" % (99, fibo(99), time.time() - start))"
      ],
      "metadata": {
        "colab": {
          "base_uri": "https://localhost:8080/"
        },
        "id": "HB2R3-ekRzPb",
        "outputId": "35c94ae3-f478-4d35-c3fc-04c5d7dbd8e6"
      },
      "execution_count": 18,
      "outputs": [
        {
          "output_type": "stream",
          "name": "stdout",
          "text": [
            "4의 피보나치 수열 결과: 3 | 소요시간: 0.0001(sec)\n",
            "99의 피보나치 수열 결과: 218922995834555169026 | 소요시간: 0.0001(sec)\n"
          ]
        }
      ]
    },
    {
      "cell_type": "code",
      "source": [
        "### 호출되는 함수 확인\n",
        "# 한 번 계산된 결과를 메모제이션하기 위한 리스트 초기화\n",
        "d = [0] * 100\n",
        "\n",
        "\n",
        "def pibo(x):\n",
        "    print('f(' + str(x) + ')', end = \" \")\n",
        "    if x == 1 or x == 2:\n",
        "        return 1\n",
        "    if d[x] != 0:\n",
        "        return d[x]\n",
        "    d[x] = pibo(x-1) + pibo(x-2)\n",
        "    return d[x]\n",
        "\n",
        "\n",
        "pibo(6)"
      ],
      "metadata": {
        "colab": {
          "base_uri": "https://localhost:8080/"
        },
        "id": "z0JWgmspScw1",
        "outputId": "efe4265b-6460-4854-e4ff-64eaf3303e7f"
      },
      "execution_count": 16,
      "outputs": [
        {
          "output_type": "stream",
          "name": "stdout",
          "text": [
            "f(6) f(5) f(4) f(3) f(2) f(1) f(2) f(3) f(4) "
          ]
        },
        {
          "output_type": "execute_result",
          "data": {
            "text/plain": [
              "8"
            ]
          },
          "metadata": {},
          "execution_count": 16
        }
      ]
    },
    {
      "cell_type": "markdown",
      "source": [
        "### **피보나치 수열 소스코드(반복문)**"
      ],
      "metadata": {
        "id": "QXLSOCoMU0Qp"
      }
    },
    {
      "cell_type": "code",
      "source": [
        "# 앞서 계산된 결과를 저장하기 위한 DP 테이블 초기화\n",
        "d = [0] * 100\n",
        "\n",
        "\n",
        "# 첫 번째 피보나치 수와 두 번째 피보나치 수는 1\n",
        "d[1] = 1\n",
        "d[2] = 1\n",
        "\n",
        "\n",
        "n = 99\n",
        "# Fibonacci Function 반복문으로 구현(보텀업 다이나믹 프로그래밍)\n",
        "for i in range(3, n + 1):\n",
        "    d[i] = d[i-1] + d[i-2]\n",
        "\n",
        "start = time.time()\n",
        "print(\"%d의 피보나치 수열 결과: %d | 소요시간: %.4f(sec)\" % (n, d[n], time.time() - start))"
      ],
      "metadata": {
        "colab": {
          "base_uri": "https://localhost:8080/"
        },
        "id": "BJ4Or8evWdo6",
        "outputId": "5ef1189f-36f0-44a5-f7da-207099fe4a6c"
      },
      "execution_count": 17,
      "outputs": [
        {
          "output_type": "stream",
          "name": "stdout",
          "text": [
            "99의 피보나치 수열 결과: 218922995834555169026 | 소요시간: 0.0001(sec)\n"
          ]
        }
      ]
    },
    {
      "cell_type": "code",
      "source": [],
      "metadata": {
        "id": "n5C4e_9wXCXQ"
      },
      "execution_count": null,
      "outputs": []
    }
  ]
}