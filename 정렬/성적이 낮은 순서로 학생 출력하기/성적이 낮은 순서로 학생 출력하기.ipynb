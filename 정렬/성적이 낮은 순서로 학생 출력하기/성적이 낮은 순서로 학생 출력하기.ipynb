{
  "nbformat": 4,
  "nbformat_minor": 0,
  "metadata": {
    "colab": {
      "provenance": [],
      "authorship_tag": "ABX9TyO6njTidGEl33rLNEgV7irL",
      "include_colab_link": true
    },
    "kernelspec": {
      "name": "python3",
      "display_name": "Python 3"
    },
    "language_info": {
      "name": "python"
    }
  },
  "cells": [
    {
      "cell_type": "markdown",
      "metadata": {
        "id": "view-in-github",
        "colab_type": "text"
      },
      "source": [
        "<a href=\"https://colab.research.google.com/github/RaOOns/Coding-Algorithm/blob/main/%EC%A0%95%EB%A0%AC/%EC%84%B1%EC%A0%81%EC%9D%B4%20%EB%82%AE%EC%9D%80%20%EC%88%9C%EC%84%9C%EB%A1%9C%20%ED%95%99%EC%83%9D%20%EC%B6%9C%EB%A0%A5%ED%95%98%EA%B8%B0/%EC%84%B1%EC%A0%81%EC%9D%B4%20%EB%82%AE%EC%9D%80%20%EC%88%9C%EC%84%9C%EB%A1%9C%20%ED%95%99%EC%83%9D%20%EC%B6%9C%EB%A0%A5%ED%95%98%EA%B8%B0.ipynb\" target=\"_parent\"><img src=\"https://colab.research.google.com/assets/colab-badge.svg\" alt=\"Open In Colab\"/></a>"
      ]
    },
    {
      "cell_type": "code",
      "execution_count": 1,
      "metadata": {
        "colab": {
          "base_uri": "https://localhost:8080/"
        },
        "id": "0tJa_7IL3dDp",
        "outputId": "c4d5b29b-ecab-4eba-9313-fdf88ae6917a"
      },
      "outputs": [
        {
          "output_type": "stream",
          "name": "stdout",
          "text": [
            "2\n",
            "홍길동 95\n",
            "이순신 77\n",
            "이순신 홍길동 "
          ]
        }
      ],
      "source": [
        "# N을 입력받기\n",
        "n = int(input())\n",
        "\n",
        "\n",
        "# N명의 학생 정보를 입력받아 리스트에 저장\n",
        "array = []\n",
        "for i in range(n):\n",
        "    input_data = input().split()\n",
        "    array.append((input_data[0], int(input_data[1])))\n",
        "\n",
        "\n",
        "# 키(key)를 이용하여, 점수를 기준으로 정렬\n",
        "array = sorted(array, key = lambda student: student[1])\n",
        "\n",
        "\n",
        "# 정렬이 수행된 결과를 출력\n",
        "for student in array:\n",
        "    print(student[0], end = \" \")"
      ]
    },
    {
      "cell_type": "code",
      "source": [],
      "metadata": {
        "id": "zoCP0gt04dLk"
      },
      "execution_count": null,
      "outputs": []
    }
  ]
}