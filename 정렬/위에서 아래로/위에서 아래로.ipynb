{
  "nbformat": 4,
  "nbformat_minor": 0,
  "metadata": {
    "colab": {
      "provenance": [],
      "authorship_tag": "ABX9TyMj+f8iGBAlC1FqgZtC89Bk",
      "include_colab_link": true
    },
    "kernelspec": {
      "name": "python3",
      "display_name": "Python 3"
    },
    "language_info": {
      "name": "python"
    }
  },
  "cells": [
    {
      "cell_type": "markdown",
      "metadata": {
        "id": "view-in-github",
        "colab_type": "text"
      },
      "source": [
        "<a href=\"https://colab.research.google.com/github/RaOOns/Coding-Algorithm/blob/main/%EC%A0%95%EB%A0%AC/%EC%9C%84%EC%97%90%EC%84%9C%20%EC%95%84%EB%9E%98%EB%A1%9C/%EC%9C%84%EC%97%90%EC%84%9C%20%EC%95%84%EB%9E%98%EB%A1%9C.ipynb\" target=\"_parent\"><img src=\"https://colab.research.google.com/assets/colab-badge.svg\" alt=\"Open In Colab\"/></a>"
      ]
    },
    {
      "cell_type": "code",
      "execution_count": 2,
      "metadata": {
        "colab": {
          "base_uri": "https://localhost:8080/"
        },
        "id": "83sltGZH1cHj",
        "outputId": "71f417db-efda-43e0-adcd-ea4e6250f24d"
      },
      "outputs": [
        {
          "output_type": "stream",
          "name": "stdout",
          "text": [
            "3\n",
            "15\n",
            "27\n",
            "2\n",
            "27 15 2 "
          ]
        }
      ],
      "source": [
        "# N을 입력 받기\n",
        "n = int(input())\n",
        "\n",
        "\n",
        "# N개의 정수를 입력받아 리스트에 저장\n",
        "array = []\n",
        "for i in range(n):\n",
        "    array.append(int(input()))\n",
        "\n",
        "\n",
        "# 파이썬 기본 정렬 라이브러리를 이용하여 정렬 수핼\n",
        "array = sorted(array, reverse = True)\n",
        "\n",
        "\n",
        "# 정렬이 수행된 결과를 출력\n",
        "for i in array:\n",
        "    print(i, end = \" \")"
      ]
    },
    {
      "cell_type": "code",
      "source": [],
      "metadata": {
        "id": "Yy18mu_9163b"
      },
      "execution_count": null,
      "outputs": []
    }
  ]
}