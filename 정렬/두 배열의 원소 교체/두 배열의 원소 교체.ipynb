{
  "nbformat": 4,
  "nbformat_minor": 0,
  "metadata": {
    "colab": {
      "provenance": [],
      "authorship_tag": "ABX9TyPhVcqGdwz9KyS++BdyfWkN",
      "include_colab_link": true
    },
    "kernelspec": {
      "name": "python3",
      "display_name": "Python 3"
    },
    "language_info": {
      "name": "python"
    }
  },
  "cells": [
    {
      "cell_type": "markdown",
      "metadata": {
        "id": "view-in-github",
        "colab_type": "text"
      },
      "source": [
        "<a href=\"https://colab.research.google.com/github/RaOOns/Coding-Algorithm/blob/main/%EC%A0%95%EB%A0%AC/%EB%91%90%20%EB%B0%B0%EC%97%B4%EC%9D%98%20%EC%9B%90%EC%86%8C%20%EA%B5%90%EC%B2%B4/%EB%91%90%20%EB%B0%B0%EC%97%B4%EC%9D%98%20%EC%9B%90%EC%86%8C%20%EA%B5%90%EC%B2%B4.ipynb\" target=\"_parent\"><img src=\"https://colab.research.google.com/assets/colab-badge.svg\" alt=\"Open In Colab\"/></a>"
      ]
    },
    {
      "cell_type": "code",
      "execution_count": 1,
      "metadata": {
        "colab": {
          "base_uri": "https://localhost:8080/"
        },
        "id": "gSkysih87jtb",
        "outputId": "6456162d-42be-4855-eeeb-be1ddd287a8a"
      },
      "outputs": [
        {
          "output_type": "stream",
          "name": "stdout",
          "text": [
            "5 3\n",
            "1 2 5 4 3\n",
            "5 5 6 6 5\n",
            "26\n"
          ]
        }
      ],
      "source": [
        "n, k = map(int, input().split())        # N과 K 입력받기\n",
        "a = list(map(int, input().split()))     # 배열 A의 모든 원소를 입력받기\n",
        "b = list(map(int, input().split()))     # 배열 B의 모든 원소를 입력받기\n",
        "\n",
        "\n",
        "a.sort()                    # 배열 A는 오름차순 정렬\n",
        "b.sort(reverse = True)      # 배열 B는 내림차순 정렬\n",
        "\n",
        "\n",
        "# 첫 번째 인덱스부터 확인하며, 두 배열의 원소를 최대 K번 비교\n",
        "for i in range(k):\n",
        "    if a[i] < b[i]:                 # A의 원소가 B의 원소보다 작은 경우, 두 원소를 교체\n",
        "        a[i], b[i] = b[i], a[i]\n",
        "    else:                           # A의 원소가 B의 원소보다 크거나 같을 때, 반복문 탈출\n",
        "        break\n",
        "\n",
        "\n",
        "print(sum(a))"
      ]
    }
  ]
}