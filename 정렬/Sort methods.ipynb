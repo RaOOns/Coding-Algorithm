{
  "nbformat": 4,
  "nbformat_minor": 0,
  "metadata": {
    "colab": {
      "provenance": [],
      "authorship_tag": "ABX9TyMrXosDIuWFvFbTj5jbxmwu",
      "include_colab_link": true
    },
    "kernelspec": {
      "name": "python3",
      "display_name": "Python 3"
    },
    "language_info": {
      "name": "python"
    }
  },
  "cells": [
    {
      "cell_type": "markdown",
      "metadata": {
        "id": "view-in-github",
        "colab_type": "text"
      },
      "source": [
        "<a href=\"https://colab.research.google.com/github/RaOOns/Coding-Algorithm/blob/main/%EC%A0%95%EB%A0%AC/Sort%20methods.ipynb\" target=\"_parent\"><img src=\"https://colab.research.google.com/assets/colab-badge.svg\" alt=\"Open In Colab\"/></a>"
      ]
    },
    {
      "cell_type": "markdown",
      "source": [
        "### **선택 정렬**\n",
        "\n",
        "- 스와프(swap): 특정한 리스트가 주어졌을 때 두 변수의 위치를 변경하는 작업\n",
        "    - 파이썬에서의 스와프는 다른 프로그램밍 언어에 비해 편리한 편"
      ],
      "metadata": {
        "id": "DVWqucymw_Sq"
      }
    },
    {
      "cell_type": "code",
      "source": [
        "array = [7, 5, 9, 0, 3, 1, 6, 2, 4, 8]\n",
        "\n",
        "for i in range(len(array)):\n",
        "    min_index = i                                               # 가장 작은 원소의 인덱스\n",
        "    for j in range(i+1, len(array)):\n",
        "        if array[min_index] > array[j]:\n",
        "            min_index = j\n",
        "    array[i], array[min_index] = array[min_index], array[i]     # 스와프(Swap)\n",
        "\n",
        "print(array)"
      ],
      "metadata": {
        "colab": {
          "base_uri": "https://localhost:8080/"
        },
        "id": "f8ahnuKXxEHU",
        "outputId": "862396e2-0414-4cf7-ebc8-3ce0c30855ad"
      },
      "execution_count": 1,
      "outputs": [
        {
          "output_type": "stream",
          "name": "stdout",
          "text": [
            "[0, 1, 2, 3, 4, 5, 6, 7, 8, 9]\n"
          ]
        }
      ]
    },
    {
      "cell_type": "markdown",
      "source": [
        "### **삽입 정렬**"
      ],
      "metadata": {
        "id": "l97TCZEgxdiw"
      }
    },
    {
      "cell_type": "code",
      "source": [
        "array = [7, 5, 9, 0, 3, 1, 6, 2, 4, 8]\n",
        "\n",
        "\n",
        "for i in range(1, len(array)):\n",
        "    for j in range(i, 0, -1):                               # 인데스 i부터 1까지 감소하며 반복하는 문법\n",
        "        if array[j] < array[j-1]:                           # 한 칸씩 왼쪽으로 이동\n",
        "            array[j], array[j-1] = array[j-1], array[j]\n",
        "        else:                                               # 자기보다 작은 데이터를 만나면 그 위치에서 중지\n",
        "            break\n",
        "\n",
        "print(array)"
      ],
      "metadata": {
        "colab": {
          "base_uri": "https://localhost:8080/"
        },
        "id": "ZBlf_x2Qx_Km",
        "outputId": "7ad80569-12f7-42c6-91dc-faed7053579a"
      },
      "execution_count": 2,
      "outputs": [
        {
          "output_type": "stream",
          "name": "stdout",
          "text": [
            "[0, 1, 2, 3, 4, 5, 6, 7, 8, 9]\n"
          ]
        }
      ]
    },
    {
      "cell_type": "markdown",
      "source": [
        "### **퀵 정렬**"
      ],
      "metadata": {
        "id": "nT2KZxcMyZVL"
      }
    },
    {
      "cell_type": "code",
      "source": [
        "array = [5, 7, 9, 0, 3, 1, 6, 2, 4, 8]\n",
        "\n",
        "\n",
        "def quick_sort(array, start, end):\n",
        "    if start >= end:    # 원소가 1개인 경우 종료\n",
        "        return\n",
        "\n",
        "    pivot = start       # pivot은 첫번째 우너소\n",
        "    left = start + 1\n",
        "    right = end\n",
        "\n",
        "    while left <= right:\n",
        "        # 피벗보다 큰 데이터를 찾을 때까지 반복\n",
        "        while left <= end and array[left] <= array[pivot]:\n",
        "            left += 1\n",
        "\n",
        "        # 피벗보다 작은 데이터를 찾을 때까지 반복\n",
        "        while right > start and array[right] > array[pivot]:\n",
        "            right -= 1\n",
        "\n",
        "        if left > right:                                                # 엇갈렸다면 작은 데이터와 피벗을 교체\n",
        "            array[right], array[pivot] = array[pivot], array[right]\n",
        "        else:                                                           # 엇갈리지 않았다면 작은 데이터와 큰 데이터를 교체\n",
        "            array[left], array[right] = array[right], array[left]\n",
        "\n",
        "    # 분할 이후 왼쪽 부분과 오른쪽 부분에서 각각 정렬 수행\n",
        "    quick_sort(array, start, right-1)\n",
        "    quick_sort(array, right+1, end)\n",
        "\n",
        "\n",
        "\n",
        "quick_sort(array, 0, len(array)-1)\n",
        "print(array)"
      ],
      "metadata": {
        "colab": {
          "base_uri": "https://localhost:8080/"
        },
        "id": "CYZdbBDNycim",
        "outputId": "08f58091-2e6e-437b-febb-dddd04960228"
      },
      "execution_count": 4,
      "outputs": [
        {
          "output_type": "stream",
          "name": "stdout",
          "text": [
            "[0, 1, 2, 3, 4, 5, 6, 7, 8, 9]\n"
          ]
        }
      ]
    },
    {
      "cell_type": "markdown",
      "source": [
        "### **파이썬의 장점을 살린 퀵 정렬**"
      ],
      "metadata": {
        "id": "Oog6eB1Lz-uw"
      }
    },
    {
      "cell_type": "code",
      "source": [
        "array = [5, 7, 9, 0, 3, 1, 6, 2, 4, 8]\n",
        "\n",
        "\n",
        "def quick_sort(array):\n",
        "\n",
        "    # 리스트가 하나 이하의 원소만을 담고 있다면 종료\n",
        "    if len(array) <= 1:\n",
        "        return array\n",
        "\n",
        "    pivot = array[0]\n",
        "    tail = array[1:]\n",
        "\n",
        "    left_side = [x for x in tail if x <= pivot]\n",
        "    right_side = [x for x in tail if x > pivot]\n",
        "\n",
        "    # 분할 이후 왼쪽 부분과 오른쪽 부분에서 각각 정렬을 수행하고, 전체 리스트를 반환\n",
        "    return quick_sort(left_side) + [pivot] + quick_sort(right_side)\n",
        "\n",
        "\n",
        "print(quick_sort(array))"
      ],
      "metadata": {
        "colab": {
          "base_uri": "https://localhost:8080/"
        },
        "id": "rm_70zDI0DeU",
        "outputId": "bb8df5ed-0811-4afa-98e8-f7d267028399"
      },
      "execution_count": 1,
      "outputs": [
        {
          "output_type": "stream",
          "name": "stdout",
          "text": [
            "[0, 1, 2, 3, 4, 5, 6, 7, 8, 9]\n"
          ]
        }
      ]
    },
    {
      "cell_type": "code",
      "source": [],
      "metadata": {
        "id": "vPi-hAgSzsZd"
      },
      "execution_count": null,
      "outputs": []
    }
  ]
}