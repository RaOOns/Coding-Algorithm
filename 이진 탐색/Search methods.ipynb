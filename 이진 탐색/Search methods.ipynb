{
  "nbformat": 4,
  "nbformat_minor": 0,
  "metadata": {
    "colab": {
      "provenance": [],
      "authorship_tag": "ABX9TyNEWTa1GlSc9VdWCU1md3Yy",
      "include_colab_link": true
    },
    "kernelspec": {
      "name": "python3",
      "display_name": "Python 3"
    },
    "language_info": {
      "name": "python"
    }
  },
  "cells": [
    {
      "cell_type": "markdown",
      "metadata": {
        "id": "view-in-github",
        "colab_type": "text"
      },
      "source": [
        "<a href=\"https://colab.research.google.com/github/RaOOns/Coding-Algorithm/blob/main/%EC%9D%B4%EC%A7%84%20%ED%83%90%EC%83%89/Search%20methods.ipynb\" target=\"_parent\"><img src=\"https://colab.research.google.com/assets/colab-badge.svg\" alt=\"Open In Colab\"/></a>"
      ]
    },
    {
      "cell_type": "markdown",
      "source": [
        "### **순차 탐색 소스코드**"
      ],
      "metadata": {
        "id": "DJH0kyg1FsWr"
      }
    },
    {
      "cell_type": "code",
      "source": [
        "# 순차 탐색 소스코드 구현\n",
        "def sequential_search(n, target, array):\n",
        "    for i in range(n):              # 각 원소를 하나씩 확인하며\n",
        "        if array[i] == target:      # 현재의 원소가 찾고자 하는 원소와 동일한 경우\n",
        "            return i + 1            # 현재으 위치 반환\n",
        "\n",
        "\n",
        "print(\"생성할 원소 개수를 입력한 다은 한 칸 띄고 찾을 문자열을 입력하세요.\")\n",
        "input_data = input().split()\n",
        "n = int(input_data[0])\n",
        "target = input_data[1]\n",
        "\n",
        "\n",
        "print(\"앞서 적은 원소 개수만큼 문자열을 입력하세요. 구분은 띄어쓰기 한 칸으로 합니다.\")\n",
        "array = input().split()\n",
        "\n",
        "\n",
        "# 순차 탐색 수행 결과 출력\n",
        "print(sequential_search(n, target, array))"
      ],
      "metadata": {
        "colab": {
          "base_uri": "https://localhost:8080/"
        },
        "id": "SYqtoxMvFxOD",
        "outputId": "62c4fb78-d79b-4da3-8da9-5edc4d2032aa"
      },
      "execution_count": 3,
      "outputs": [
        {
          "output_type": "stream",
          "name": "stdout",
          "text": [
            "생성할 원소 개수를 입력한 다은 한 칸 띄고 찾을 문자열을 입력하세요.\n",
            "5 raoon\n",
            "앞서 적은 원소 개수만큼 문자열을 입력하세요. 구분은 띄어쓰기 한 칸으로 합니다.\n",
            "seong hea sang raoon hyun\n",
            "4\n"
          ]
        }
      ]
    },
    {
      "cell_type": "markdown",
      "source": [
        "### **이진 탐색 소스코드 - 재귀함수**"
      ],
      "metadata": {
        "id": "zifplzNnGiuC"
      }
    },
    {
      "cell_type": "code",
      "source": [
        "# 이진 탐색 소스코드 구현(재귀 함수)\n",
        "def binary_search(array, target, start, end):\n",
        "    if start > end:\n",
        "        return None\n",
        "    mid = (start + end) // 2\n",
        "\n",
        "    # 찾은 경우 중간점 인덱스 반환\n",
        "    if array[mid] == target:\n",
        "        return mid\n",
        "    # 중간점의 값보다 찾고자 하는 값이 작은 경우 왼쪽 확인\n",
        "    elif array[mid] > target:\n",
        "        return binary_search(array, target, start, mid-1)\n",
        "    # 중간점의 값보다 찾고자 하는 값이 큰 경우 오른쪽 확인\n",
        "    else:\n",
        "        return binary_search(array, target, mid+1, end)\n",
        "\n",
        "\n",
        "# n(원소의 개수)과 target(찾고자 하는 문자열)을 입력받기\n",
        "n, target = list(map(int, input().split()))\n",
        "\n",
        "# 전체 원소 입력받기\n",
        "array = list(map(int, input().split()))\n",
        "\n",
        "\n",
        "# 이진 탐색 수행 결과 출력\n",
        "result = binary_search(array, target, 0, n-1)\n",
        "if result == None:\n",
        "    print(\"원소가 존재하지 않습니다.\")\n",
        "else:\n",
        "    print(result + 1)"
      ],
      "metadata": {
        "colab": {
          "base_uri": "https://localhost:8080/"
        },
        "id": "b48ZtXl3HAiI",
        "outputId": "94344136-f1ee-4845-de2b-935528d3e87c"
      },
      "execution_count": 4,
      "outputs": [
        {
          "output_type": "stream",
          "name": "stdout",
          "text": [
            "10 7\n",
            "1 3 4 5 9 11 13 15 17 19\n",
            "원소가 존재하지 않습니다.\n"
          ]
        }
      ]
    },
    {
      "cell_type": "markdown",
      "source": [
        "### **이진 탐색 소스코드 - 반복문**"
      ],
      "metadata": {
        "id": "Um0Gi2x1IB3k"
      }
    },
    {
      "cell_type": "code",
      "source": [
        "# 이진 탐색 소스코드 구현(재귀 함수)\n",
        "def binary_search(array, target, start, end):\n",
        "    while start <= end:\n",
        "        mid = (start + end) // 2\n",
        "        # 찾은 경우 중간점 인덱스 반환\n",
        "        if array[mid] == target:\n",
        "            return mid\n",
        "        # 중간점의 값보다 찾고자 하는 값이 작은 경우 왼쪽 확인\n",
        "        elif array[mid] > target:\n",
        "            end = mid-1\n",
        "        # 중간점의 값보다 찾고자 하는 값이 큰 경우 오른쪽 확인\n",
        "        else:\n",
        "            start = mid+1\n",
        "    return None\n",
        "\n",
        "# n(원소의 개수)과 target(찾고자 하는 문자열)을 입력받기\n",
        "n, target = list(map(int, input().split()))\n",
        "\n",
        "# 전체 원소 입력받기\n",
        "array = list(map(int, input().split()))\n",
        "\n",
        "\n",
        "# 이진 탐색 수행 결과 출력\n",
        "result = binary_search(array, target, 0, n-1)\n",
        "if result == None:\n",
        "    print(\"원소가 존재하지 않습니다.\")\n",
        "else:\n",
        "    print(result + 1)"
      ],
      "metadata": {
        "colab": {
          "base_uri": "https://localhost:8080/"
        },
        "id": "a0D7RqCnIJ3l",
        "outputId": "6d993517-986c-42b1-d800-f2edf347ff92"
      },
      "execution_count": 5,
      "outputs": [
        {
          "output_type": "stream",
          "name": "stdout",
          "text": [
            "10 7\n",
            "1 3 5 7 9 11 13 15 17 19\n",
            "4\n"
          ]
        }
      ]
    },
    {
      "cell_type": "markdown",
      "source": [
        "### **한 줄 입력받아 출력하는 소스코드**\n",
        "\n",
        "- 입력 데이터가 많은 문제는 sys라이브러리의 readline() 함수를 이용하면 시간초과를 피할 수 있다."
      ],
      "metadata": {
        "id": "fLZ-RmFiIgI2"
      }
    },
    {
      "cell_type": "code",
      "source": [
        "import sys\n",
        "\n",
        "# 하나의 문자열 데이터 입력받기\n",
        "input_data = sys.stdin.readline().rstrip()\n",
        "\n",
        "\n",
        "# 입력받은 문자열 그대로 출력\n",
        "print(input_data)"
      ],
      "metadata": {
        "colab": {
          "base_uri": "https://localhost:8080/"
        },
        "id": "geK5vmj2MZy1",
        "outputId": "259eb6b5-3049-4164-be0a-53be5ca32d68"
      },
      "execution_count": 21,
      "outputs": [
        {
          "output_type": "stream",
          "name": "stdout",
          "text": [
            "\n"
          ]
        }
      ]
    },
    {
      "cell_type": "code",
      "source": [],
      "metadata": {
        "id": "ovGz86L_OX4m"
      },
      "execution_count": null,
      "outputs": []
    }
  ]
}