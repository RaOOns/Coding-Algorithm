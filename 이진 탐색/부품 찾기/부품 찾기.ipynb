{
  "nbformat": 4,
  "nbformat_minor": 0,
  "metadata": {
    "colab": {
      "provenance": [],
      "authorship_tag": "ABX9TyMszhaLJ3IdfTwmmZ6R/rul",
      "include_colab_link": true
    },
    "kernelspec": {
      "name": "python3",
      "display_name": "Python 3"
    },
    "language_info": {
      "name": "python"
    }
  },
  "cells": [
    {
      "cell_type": "markdown",
      "metadata": {
        "id": "view-in-github",
        "colab_type": "text"
      },
      "source": [
        "<a href=\"https://colab.research.google.com/github/RaOOns/Coding-Algorithm/blob/main/%EC%9D%B4%EC%A7%84%20%ED%83%90%EC%83%89/%EB%B6%80%ED%92%88%20%EC%B0%BE%EA%B8%B0/%EB%B6%80%ED%92%88%20%EC%B0%BE%EA%B8%B0.ipynb\" target=\"_parent\"><img src=\"https://colab.research.google.com/assets/colab-badge.svg\" alt=\"Open In Colab\"/></a>"
      ]
    },
    {
      "cell_type": "markdown",
      "source": [
        "### **이진 탐색을 활용한 답안 예시**"
      ],
      "metadata": {
        "id": "N3R8QhD_UEQu"
      }
    },
    {
      "cell_type": "code",
      "source": [
        "# 이진 탐색 소스 코드 구현(반복문)\n",
        "def binary_search(array, target, start, end):\n",
        "    while start <= end:\n",
        "        mid = (start + end) // 2\n",
        "        if array[mid] == target:\n",
        "            return mid\n",
        "        elif array[mid] > target:\n",
        "            end = mid - 1\n",
        "        else:\n",
        "            start = mid + 1\n",
        "    return None\n",
        "\n",
        "\n",
        "# N(가게의 부품 개수)입력\n",
        "n = int(input())\n",
        "\n",
        "# 가게에 있는 전체 부품 번호를 공백으로 구분하여 입력\n",
        "array = list(map(int, input().split()))\n",
        "array.sort()                                # 이진 탐색을 수행하기 위해 사전에 정렬 수행\n",
        "\n",
        "# M(손님이 확인 요청한 부품 개수)입력\n",
        "m = int(input())\n",
        "\n",
        "# 손님이 확인 요청한 전체 부품 번호를 공백을 구분하여 입력\n",
        "x = list(map(int, input().split()))\n",
        "\n",
        "\n",
        "# 손님이 확인 요청한 부품 번호를 하나씩 확인\n",
        "for i in x:\n",
        "    result = binary_search(array, i, 0 , n-1)\n",
        "    if result != None:\n",
        "        print(\"yes\", end = \" \")\n",
        "    else:\n",
        "        print(\"no\", end = \" \")"
      ],
      "metadata": {
        "colab": {
          "base_uri": "https://localhost:8080/"
        },
        "id": "PeWr_qxNUcjA",
        "outputId": "f0905803-ed95-44dd-e3b1-78c3e4e1af7e"
      },
      "execution_count": 1,
      "outputs": [
        {
          "output_type": "stream",
          "name": "stdout",
          "text": [
            "5\n",
            "8 3 7 9 2\n",
            "3\n",
            "5 7 2\n",
            "no yes yes "
          ]
        }
      ]
    },
    {
      "cell_type": "markdown",
      "source": [
        "### **계수 정렬을 이용한 답안 예시**"
      ],
      "metadata": {
        "id": "PEaQ63cEVoII"
      }
    },
    {
      "cell_type": "code",
      "source": [
        "# N(가게의 부품 개수)입력\n",
        "n = int(input())\n",
        "array = [0] * 1000001\n",
        "\n",
        "# 가게에 있는 전체 부품 번호를 입력받아서 기록\n",
        "for i in input().split():\n",
        "    array[int(i)] = 1\n",
        "\n",
        "# M(손님이 확인 요청한 부품 개수)입력\n",
        "m = int(input())\n",
        "\n",
        "# 손님이 확인 요청한 전체 부품 번호를 공백을 구분하여 입력\n",
        "x = list(map(int, input().split()))\n",
        "\n",
        "\n",
        "# 손님이 확인 요청한 부품 번호를 하나씩 확인\n",
        "for i in x:\n",
        "    if array[i] == 1:\n",
        "        print(\"yes\", end = \" \")\n",
        "    else:\n",
        "        print(\"no\", end = \" \")"
      ],
      "metadata": {
        "colab": {
          "base_uri": "https://localhost:8080/"
        },
        "id": "O6Q2LG2UWByb",
        "outputId": "23e882ce-bb79-4ecc-fb89-170f7cd806bd"
      },
      "execution_count": 2,
      "outputs": [
        {
          "output_type": "stream",
          "name": "stdout",
          "text": [
            "5\n",
            "8 3 7 9 2\n",
            "3\n",
            "5 7 9\n",
            "no yes yes "
          ]
        }
      ]
    },
    {
      "cell_type": "markdown",
      "source": [
        "### **집합 자료형을 이용한 답안 예시**"
      ],
      "metadata": {
        "id": "Z_3PBkX4Wh7g"
      }
    },
    {
      "cell_type": "code",
      "source": [
        "# N(가게의 부품 개수)입력\n",
        "n = int(input())\n",
        "\n",
        "# 가게에 있는 전체 부품 번호를 입력받아서 기록\n",
        "array = set(map(int, input().split()))\n",
        "\n",
        "# M(손님이 확인 요청한 부품 개수)입력\n",
        "m = int(input())\n",
        "\n",
        "# 손님이 확인 요청한 전체 부품 번호를 공백을 구분하여 입력\n",
        "x = list(map(int, input().split()))\n",
        "\n",
        "\n",
        "# 손님이 확인 요청한 부품 번호를 하나씩 확인\n",
        "for i in x:\n",
        "    if i in array:\n",
        "        print(\"yes\", end = \" \")\n",
        "    else:\n",
        "        print(\"no\", end = \" \")"
      ],
      "metadata": {
        "colab": {
          "base_uri": "https://localhost:8080/"
        },
        "id": "iBNVr1SjWnYp",
        "outputId": "d9bddb81-5c31-41f6-b7aa-0ff7bb201b9c"
      },
      "execution_count": 3,
      "outputs": [
        {
          "output_type": "stream",
          "name": "stdout",
          "text": [
            "5\n",
            "8 3 7 9 2\n",
            "3\n",
            "5 7 9\n",
            "no yes yes "
          ]
        }
      ]
    },
    {
      "cell_type": "code",
      "source": [],
      "metadata": {
        "id": "ojvZuWPOW6tO"
      },
      "execution_count": null,
      "outputs": []
    }
  ]
}