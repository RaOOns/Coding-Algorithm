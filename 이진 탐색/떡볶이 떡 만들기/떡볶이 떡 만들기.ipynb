{
  "nbformat": 4,
  "nbformat_minor": 0,
  "metadata": {
    "colab": {
      "provenance": [],
      "authorship_tag": "ABX9TyOkl+VcWve2/kDnGDZ+vYU9",
      "include_colab_link": true
    },
    "kernelspec": {
      "name": "python3",
      "display_name": "Python 3"
    },
    "language_info": {
      "name": "python"
    }
  },
  "cells": [
    {
      "cell_type": "markdown",
      "metadata": {
        "id": "view-in-github",
        "colab_type": "text"
      },
      "source": [
        "<a href=\"https://colab.research.google.com/github/RaOOns/Coding-Algorithm/blob/main/%EC%9D%B4%EC%A7%84%20%ED%83%90%EC%83%89/%EB%96%A1%EB%B3%B6%EC%9D%B4%20%EB%96%A1%20%EB%A7%8C%EB%93%A4%EA%B8%B0/%EB%96%A1%EB%B3%B6%EC%9D%B4%20%EB%96%A1%20%EB%A7%8C%EB%93%A4%EA%B8%B0.ipynb\" target=\"_parent\"><img src=\"https://colab.research.google.com/assets/colab-badge.svg\" alt=\"Open In Colab\"/></a>"
      ]
    },
    {
      "cell_type": "code",
      "execution_count": 1,
      "metadata": {
        "colab": {
          "base_uri": "https://localhost:8080/"
        },
        "id": "hueyojWwMPQC",
        "outputId": "4f256f1e-6f02-4c34-f593-d96030ecdcf4"
      },
      "outputs": [
        {
          "output_type": "stream",
          "name": "stdout",
          "text": [
            "4 6\n",
            "19 15 10 17\n",
            "15\n"
          ]
        }
      ],
      "source": [
        "# 떡의 개수(N)와 요청한 떡의 길이(M)을 입력받기\n",
        "n, m = list(map(int, input().split(\" \")))\n",
        "\n",
        "# 각 떡의 개별 높이 정보를 입력받기\n",
        "array = list(map(int, input().split()))\n",
        "\n",
        "\n",
        "# 이진 탐색을 위한 시작점과 끝점 설정\n",
        "start = 0\n",
        "end = max(array)\n",
        "\n",
        "\n",
        "# 이진 탐색 수행(반복문)\n",
        "result = 0\n",
        "while (start <= end):\n",
        "    total = 0\n",
        "    mid = (start + end) // 2\n",
        "\n",
        "    # 잘랐을 때의 떡의 양 계산\n",
        "    for x in array:\n",
        "        if x > mid:\n",
        "            total += x - mid\n",
        "\n",
        "    # 떡의 양이 부족한 경우 더 많이 자르기(왼쪽 부분 탐색)\n",
        "    if total < m:\n",
        "        end = mid - 1\n",
        "\n",
        "    # 떡의 양이 충분한 경우 덜 자르기(오른쪽 부분 탐색)\n",
        "    else:\n",
        "        result = mid        # 최대한 덜 잘랐을 때가 정답이므로, 여기서 result에 기록\n",
        "        start = mid + 1\n",
        "\n",
        "\n",
        "# 정답 출력\n",
        "print(result)"
      ]
    },
    {
      "cell_type": "code",
      "source": [],
      "metadata": {
        "id": "PatrLfZpNius"
      },
      "execution_count": null,
      "outputs": []
    }
  ]
}