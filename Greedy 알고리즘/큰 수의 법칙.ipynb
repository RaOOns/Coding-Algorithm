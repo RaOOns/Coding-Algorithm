{
  "nbformat": 4,
  "nbformat_minor": 0,
  "metadata": {
    "colab": {
      "provenance": [],
      "authorship_tag": "ABX9TyO4fjbX6jQE0sz40Ls5a2k1",
      "include_colab_link": true
    },
    "kernelspec": {
      "name": "python3",
      "display_name": "Python 3"
    },
    "language_info": {
      "name": "python"
    }
  },
  "cells": [
    {
      "cell_type": "markdown",
      "metadata": {
        "id": "view-in-github",
        "colab_type": "text"
      },
      "source": [
        "<a href=\"https://colab.research.google.com/github/RaOOns/Coding-Algorithm/blob/main/Greedy%20%EC%95%8C%EA%B3%A0%EB%A6%AC%EC%A6%98/%ED%81%B0%20%EC%88%98%EC%9D%98%20%EB%B2%95%EC%B9%99.ipynb\" target=\"_parent\"><img src=\"https://colab.research.google.com/assets/colab-badge.svg\" alt=\"Open In Colab\"/></a>"
      ]
    },
    {
      "cell_type": "markdown",
      "source": [
        "### **단순한 답안**"
      ],
      "metadata": {
        "id": "s_pIje436IgZ"
      }
    },
    {
      "cell_type": "code",
      "source": [
        "### N, M, K를 공백으로 구분하여 입력 받기\n",
        "n, m, k = map(int, input().split())\n",
        "\n",
        "### N개의 수를 공백으로 구분하여 입력받기\n",
        "data = list(map(int, input().split()))\n",
        "\n",
        "\n",
        "\n",
        "data.sort()         # 입력받은 수 정렬\n",
        "first = data[n-1]   # 가장 큰 수\n",
        "second = data[n-2]  # 두 번째로 큰 수\n",
        "\n",
        "result = 0\n",
        "\n",
        "while True:\n",
        "    for i in range(k):      # 가장 큰 수를 k번 더하기\n",
        "        if m == 0:          # m = 0 이면 탈출\n",
        "            break\n",
        "        result += first\n",
        "        m -= 1              # 더할 때마다 M에서 1 빼기\n",
        "\n",
        "    if m == 0:              # m = 0 이면 탈출\n",
        "        break\n",
        "    result += second # 두 번째로 큰 수 한 번 더하기\n",
        "    m -= 1\n",
        "\n",
        "print(result)"
      ],
      "metadata": {
        "colab": {
          "base_uri": "https://localhost:8080/"
        },
        "id": "jY0QVgUn6N56",
        "outputId": "bc454e14-0eec-4961-a709-4727d3c4ef9e"
      },
      "execution_count": 1,
      "outputs": [
        {
          "output_type": "stream",
          "name": "stdout",
          "text": [
            "5 8 3\n",
            "2 4 5 4 6\n",
            "46\n"
          ]
        }
      ]
    },
    {
      "cell_type": "markdown",
      "source": [
        "### **수열을 이용한 방법**\n",
        "\n",
        "- 반복되는 수열의 길이: (K+1)\n",
        "- 따라서, M을 (k+1)로 나눈 몫이 수열이 반복되는 횟수\n",
        "- 여기에 K를 곱해주면 가장 큰 수가 등장하는 횟수\n",
        "- M을 (k+1)로 나눈 나머지 만큼 가장 큰 수가 추가로 더해짐\n",
        "\n",
        "<br/>\n",
        "- 가장 큰 수가 더해지는 횟수: &nbsp;&nbsp; int(M / (K+1)) * K + M % (K+1)"
      ],
      "metadata": {
        "id": "JE2iXK6N7fRr"
      }
    },
    {
      "cell_type": "code",
      "source": [
        "### N, M, K를 공백으로 구분하여 입력 받기\n",
        "n, m, k = map(int, input().split())\n",
        "\n",
        "### N개의 수를 공백으로 구분하여 입력받기\n",
        "data = list(map(int, input().split()))\n",
        "\n",
        "\n",
        "\n",
        "data.sort()         # 입력받은 수 정렬\n",
        "first = data[n-1]   # 가장 큰 수\n",
        "second = data[n-2]  # 두 번째로 큰 수\n",
        "\n",
        "\n",
        "### 가장 큰 수가 더해지는 횟수 계산\n",
        "count = int(m / (k+1)) * k\n",
        "count += m % (k+1)\n",
        "\n",
        "\n",
        "result = 0\n",
        "result += count * first         # 가장 큰 수 더하기\n",
        "result += (m - count) * second  # 두 번째로 큰 수 더하기\n",
        "\n",
        "print(result)"
      ],
      "metadata": {
        "colab": {
          "base_uri": "https://localhost:8080/"
        },
        "id": "X4_FFtzD9Zts",
        "outputId": "8661b7e0-b9a8-4d5a-ecd0-1bf0c610ee2c"
      },
      "execution_count": 2,
      "outputs": [
        {
          "output_type": "stream",
          "name": "stdout",
          "text": [
            "5 8 3\n",
            "2 4 5 4 6\n",
            "46\n"
          ]
        }
      ]
    },
    {
      "cell_type": "code",
      "source": [],
      "metadata": {
        "id": "sJHtQGMV92Wg"
      },
      "execution_count": null,
      "outputs": []
    }
  ]
}