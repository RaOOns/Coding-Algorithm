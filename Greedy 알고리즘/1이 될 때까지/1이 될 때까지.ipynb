{
  "nbformat": 4,
  "nbformat_minor": 0,
  "metadata": {
    "colab": {
      "provenance": [],
      "authorship_tag": "ABX9TyORYBX6NDsR5A1nMAdl2MKe",
      "include_colab_link": true
    },
    "kernelspec": {
      "name": "python3",
      "display_name": "Python 3"
    },
    "language_info": {
      "name": "python"
    }
  },
  "cells": [
    {
      "cell_type": "markdown",
      "metadata": {
        "id": "view-in-github",
        "colab_type": "text"
      },
      "source": [
        "<a href=\"https://colab.research.google.com/github/RaOOns/Coding-Algorithm/blob/main/Greedy%20%EC%95%8C%EA%B3%A0%EB%A6%AC%EC%A6%98/1%EC%9D%B4%20%EB%90%A0%20%EB%95%8C%EA%B9%8C%EC%A7%80/1%EC%9D%B4%20%EB%90%A0%20%EB%95%8C%EA%B9%8C%EC%A7%80.ipynb\" target=\"_parent\"><img src=\"https://colab.research.google.com/assets/colab-badge.svg\" alt=\"Open In Colab\"/></a>"
      ]
    },
    {
      "cell_type": "markdown",
      "source": [
        "### **단순한 방법**"
      ],
      "metadata": {
        "id": "CmdZFKJO1r0D"
      }
    },
    {
      "cell_type": "code",
      "source": [
        "n, k = map(int, input().split())\n",
        "result = 0\n",
        "\n",
        "\n",
        "### N이 K 이상이라면 K로 계속 나누기\n",
        "while n >= k :\n",
        "\n",
        "    # N이 K로 나누어 떨어지지 않는다면 N에서 1씩 빼기\n",
        "    while n % k != 0 :\n",
        "        n -= 1\n",
        "        result += 1\n",
        "\n",
        "    # K로 나누기\n",
        "    n //= k\n",
        "    result += 1\n",
        "\n",
        "\n",
        "### 마지막으로 남은 수에 대하여 1씩 빼기\n",
        "while n > 1:\n",
        "    n -= 1\n",
        "    result += 1\n",
        "\n",
        "print(result)"
      ],
      "metadata": {
        "colab": {
          "base_uri": "https://localhost:8080/"
        },
        "id": "SaN_LjMU11GH",
        "outputId": "f5978ec2-d763-4394-8f37-9668cfad2815"
      },
      "execution_count": 1,
      "outputs": [
        {
          "output_type": "stream",
          "name": "stdout",
          "text": [
            "25 5\n",
            "2\n"
          ]
        }
      ]
    },
    {
      "cell_type": "markdown",
      "source": [
        "### **효율적인 방법**"
      ],
      "metadata": {
        "id": "i2rY-8QQ2gTo"
      }
    },
    {
      "cell_type": "code",
      "source": [
        "n, k = map(int, input().split())\n",
        "result = 0\n",
        "\n",
        "\n",
        "\n",
        "while True:\n",
        "    # N이 K로 나누어 떨어지지수가 될 때까지 1씩 빼기\n",
        "    target = (n // k) * k\n",
        "    result += (n - target)\n",
        "    n = target\n",
        "\n",
        "    # N이 K보다 작을 때(더이상 나눌 수 없을 때) 반복문 탈출\n",
        "    if n < k:\n",
        "        break\n",
        "\n",
        "    # K로 나누기\n",
        "    result += 1\n",
        "    n //= k\n",
        "\n",
        "\n",
        "# 마지막으로 남은 수에 대하여 1씩 빼기\n",
        "result += (n - 1)\n",
        "\n",
        "print(result)"
      ],
      "metadata": {
        "colab": {
          "base_uri": "https://localhost:8080/"
        },
        "id": "v_BVlrwI20OV",
        "outputId": "cca2fc17-ae1e-49b6-a293-aa330df2614b"
      },
      "execution_count": 6,
      "outputs": [
        {
          "output_type": "stream",
          "name": "stdout",
          "text": [
            "14000 3\n",
            "17\n"
          ]
        }
      ]
    },
    {
      "cell_type": "markdown",
      "source": [
        "### **응용: 뺀 횟수 및 나눈 횟수 출력**"
      ],
      "metadata": {
        "id": "vNfLNr4k3I0h"
      }
    },
    {
      "cell_type": "code",
      "source": [
        "n, k = map(int, input().split())\n",
        "result = 0\n",
        "div_ = 0\n",
        "\n",
        "while True:\n",
        "    # N이 K로 나누어 떨어지지수가 될 때까지 1씩 빼기\n",
        "    target = (n // k) * k\n",
        "    result += (n - target)\n",
        "    n = target\n",
        "\n",
        "    # N이 K보다 작을 때(더이상 나눌 수 없을 때) 반복문 탈출\n",
        "    if n < k:\n",
        "        break\n",
        "\n",
        "    # K로 나누기\n",
        "    result += 1\n",
        "    div_ += 1\n",
        "    n //= k\n",
        "\n",
        "\n",
        "# 마지막으로 남은 수에 대하여 1씩 빼기\n",
        "result += (n - 1)\n",
        "\n",
        "print(result)\n",
        "print(\"나눈 횟수: %d번 | 뺀 횟수: %d번\" % (div_, result - div_))"
      ],
      "metadata": {
        "colab": {
          "base_uri": "https://localhost:8080/"
        },
        "id": "_dVWBwcR4C9p",
        "outputId": "3a7a763e-d80b-44f4-a6cd-0af2d2d06d4a"
      },
      "execution_count": 8,
      "outputs": [
        {
          "output_type": "stream",
          "name": "stdout",
          "text": [
            "14000 3\n",
            "17\n",
            "나눈 횟수: 8번 | 뺀 횟수: 9번\n"
          ]
        }
      ]
    },
    {
      "cell_type": "code",
      "source": [],
      "metadata": {
        "id": "N-gEpKqH4cVc"
      },
      "execution_count": null,
      "outputs": []
    }
  ]
}