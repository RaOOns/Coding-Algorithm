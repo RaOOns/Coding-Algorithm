{
  "nbformat": 4,
  "nbformat_minor": 0,
  "metadata": {
    "colab": {
      "provenance": [],
      "authorship_tag": "ABX9TyO37Sre990HRowxmPE9BoqI",
      "include_colab_link": true
    },
    "kernelspec": {
      "name": "python3",
      "display_name": "Python 3"
    },
    "language_info": {
      "name": "python"
    }
  },
  "cells": [
    {
      "cell_type": "markdown",
      "metadata": {
        "id": "view-in-github",
        "colab_type": "text"
      },
      "source": [
        "<a href=\"https://colab.research.google.com/github/RaOOns/Coding-Algorithm/blob/main/Greedy%20%EC%95%8C%EA%B3%A0%EB%A6%AC%EC%A6%98/%EC%88%AB%EC%9E%90%20%EC%B9%B4%EB%93%9C%20%EA%B2%8C%EC%9E%84/%EC%88%AB%EC%9E%90%20%EC%B9%B4%EB%93%9C%20%EA%B2%8C%EC%9E%84.ipynb\" target=\"_parent\"><img src=\"https://colab.research.google.com/assets/colab-badge.svg\" alt=\"Open In Colab\"/></a>"
      ]
    },
    {
      "cell_type": "markdown",
      "source": [
        "### **min() 함수 활용**"
      ],
      "metadata": {
        "id": "y7khyLreC-3H"
      }
    },
    {
      "cell_type": "code",
      "source": [
        "### N, M을 공백으로 구분하여 입력받기\n",
        "n, m = map(int, input().split())\n",
        "\n",
        "result = 0\n",
        "\n",
        "\n",
        "### 한 줄씩 입력 받아 확인\n",
        "for i in range(n):\n",
        "    data = list(map(int, input().split()))\n",
        "\n",
        "    min_value = min(data)               # 현재 줄에서 \"가장 작은 수\" 찾기\n",
        "    result = max(result, min_value)     # \"가장 작은 수\"들 중에서 \"가장 큰 수\" 찾기\n",
        "\n",
        "print(result)"
      ],
      "metadata": {
        "colab": {
          "base_uri": "https://localhost:8080/"
        },
        "id": "Vwf2CJK-DJ5h",
        "outputId": "65d9c71e-0d9e-4424-808f-7fb9de2939a2"
      },
      "execution_count": 1,
      "outputs": [
        {
          "output_type": "stream",
          "name": "stdout",
          "text": [
            "3 3\n",
            "3 1 2\n",
            "4 1 4\n",
            "2 2 2\n",
            "2\n"
          ]
        }
      ]
    },
    {
      "cell_type": "markdown",
      "source": [
        "### **2중 반복문 구조를 활용**"
      ],
      "metadata": {
        "id": "wZgglBvnDqaC"
      }
    },
    {
      "cell_type": "code",
      "source": [
        "### N, M을 공백으로 구분하여 입력받기\n",
        "n, m = map(int, input().split())\n",
        "\n",
        "result = 0\n",
        "\n",
        "\n",
        "### 한 줄씩 입력 받아 확인\n",
        "for i in range(n):\n",
        "    data = list(map(int, input().split()))\n",
        "\n",
        "    min_value = 10001                   # 현재 줄에서 \"가장 작은 수\" 찾기\n",
        "    for a in data:\n",
        "        min_value = min(min_value, a)\n",
        "\n",
        "    result = max(result, min_value)     # \"가장 작은 수\"들 중에서 \"가장 큰 수\" 찾기\n",
        "\n",
        "print(result)"
      ],
      "metadata": {
        "colab": {
          "base_uri": "https://localhost:8080/"
        },
        "id": "ZY5LBGfXD04X",
        "outputId": "fd34aff0-d5ba-407b-e7e2-2d63c6bc0b6e"
      },
      "execution_count": 2,
      "outputs": [
        {
          "output_type": "stream",
          "name": "stdout",
          "text": [
            "2 4\n",
            "7 3 1 8\n",
            "3 3 3 4\n",
            "3\n"
          ]
        }
      ]
    },
    {
      "cell_type": "markdown",
      "source": [
        "### **응용: 선택된 숫자의 위치**"
      ],
      "metadata": {
        "id": "VLM_att3ESE9"
      }
    },
    {
      "cell_type": "code",
      "source": [
        "### N, M을 공백으로 구분하여 입력받기\n",
        "n, m = map(int, input().split())\n",
        "\n",
        "result = 0\n",
        "row_ = -1\n",
        "locate = []\n",
        "\n",
        "### 한 줄씩 입력 받아 확인\n",
        "for i in range(n):\n",
        "    data = list(map(int, input().split()))\n",
        "\n",
        "    min_value = min(data)               # 현재 줄에서 \"가장 작은 수\" 찾기\n",
        "    result = max(result, min_value)     # \"가장 작은 수\"들 중에서 \"가장 큰 수\" 찾기\n",
        "\n",
        "    row_ += 1\n",
        "    if result <= min_value:\n",
        "        locate.append([row_, data.index(min_value)])\n",
        "\n",
        "print(result)\n",
        "print(locate)"
      ],
      "metadata": {
        "colab": {
          "base_uri": "https://localhost:8080/"
        },
        "id": "M60eWrKTX71f",
        "outputId": "a0cc6ed1-466e-4ae3-b770-8a9f0447d064"
      },
      "execution_count": 4,
      "outputs": [
        {
          "output_type": "stream",
          "name": "stdout",
          "text": [
            "2 5\n",
            "1 2 3 1\n",
            "2 3 1 1\n",
            "1\n",
            "[[0, 0], [1, 2]]\n"
          ]
        }
      ]
    }
  ]
}