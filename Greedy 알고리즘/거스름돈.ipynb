{
  "nbformat": 4,
  "nbformat_minor": 0,
  "metadata": {
    "colab": {
      "provenance": [],
      "authorship_tag": "ABX9TyOj6/3TlOUcTnq2Oc7ZP60z",
      "include_colab_link": true
    },
    "kernelspec": {
      "name": "python3",
      "display_name": "Python 3"
    },
    "language_info": {
      "name": "python"
    }
  },
  "cells": [
    {
      "cell_type": "markdown",
      "metadata": {
        "id": "view-in-github",
        "colab_type": "text"
      },
      "source": [
        "<a href=\"https://colab.research.google.com/github/RaOOns/Coding-Algorithm/blob/main/Greedy%20%EC%95%8C%EA%B3%A0%EB%A6%AC%EC%A6%98/%EA%B1%B0%EC%8A%A4%EB%A6%84%EB%8F%88.ipynb\" target=\"_parent\"><img src=\"https://colab.research.google.com/assets/colab-badge.svg\" alt=\"Open In Colab\"/></a>"
      ]
    },
    {
      "cell_type": "code",
      "execution_count": 7,
      "metadata": {
        "id": "i_JmSgKwz4wK"
      },
      "outputs": [],
      "source": [
        "def Change(n, coin_types = [500, 100, 50, 10]):\n",
        "\n",
        "    count = 0\n",
        "    for coin in coin_types:\n",
        "        count += n // coin      # 해당 coin으로 거슬러 줄 수 있는 동전의 수\n",
        "        n %= coin               # 해당 coin으로 거슬러 주고 남은 돈\n",
        "\n",
        "    return count"
      ]
    },
    {
      "cell_type": "code",
      "source": [
        "print(Change(1260))\n",
        "print(Change(3000))\n",
        "print(Change(180))\n",
        "print(Change(100710))"
      ],
      "metadata": {
        "colab": {
          "base_uri": "https://localhost:8080/"
        },
        "id": "dGOrF6Us0NfE",
        "outputId": "3b777c36-4d47-4e72-9aca-7e7fcf196700"
      },
      "execution_count": 10,
      "outputs": [
        {
          "output_type": "stream",
          "name": "stdout",
          "text": [
            "6\n",
            "6\n",
            "5\n",
            "204\n"
          ]
        }
      ]
    },
    {
      "cell_type": "markdown",
      "source": [
        "### **응용: 거스름돈에 사용된 화폐별 개수**"
      ],
      "metadata": {
        "id": "8TNxXyhH142H"
      }
    },
    {
      "cell_type": "code",
      "source": [
        "def Change_app(n, coin_types = [500, 100, 50, 10]):\n",
        "\n",
        "    count = 0\n",
        "    count_dict = {}\n",
        "    for coin in coin_types:\n",
        "        count += n // coin              # 해당 coin으로 거슬러 줄 수 있는 동전의 수\n",
        "        count_dict[coin] = n // coin    # coin별 필요한 개수\n",
        "        n %= coin                       # 해당 coin으로 거슬러 주고 남은 돈\n",
        "\n",
        "    return count, count_dict"
      ],
      "metadata": {
        "id": "-Py53Gms0_dL"
      },
      "execution_count": 15,
      "outputs": []
    },
    {
      "cell_type": "code",
      "source": [
        "print(Change_app(1260))\n",
        "print(Change_app(3000))\n",
        "print(Change_app(180))\n",
        "print(Change_app(100710))"
      ],
      "metadata": {
        "colab": {
          "base_uri": "https://localhost:8080/"
        },
        "id": "d-Bw3eSQ10Yp",
        "outputId": "b6a505c3-84cf-4a0d-f0b4-227a68fcc701"
      },
      "execution_count": 16,
      "outputs": [
        {
          "output_type": "stream",
          "name": "stdout",
          "text": [
            "(6, {500: 2, 100: 2, 50: 1, 10: 1})\n",
            "(6, {500: 6, 100: 0, 50: 0, 10: 0})\n",
            "(5, {500: 0, 100: 1, 50: 1, 10: 3})\n",
            "(204, {500: 201, 100: 2, 50: 0, 10: 1})\n"
          ]
        }
      ]
    },
    {
      "cell_type": "code",
      "source": [],
      "metadata": {
        "id": "Bl9ZnWjY12XE"
      },
      "execution_count": null,
      "outputs": []
    }
  ]
}