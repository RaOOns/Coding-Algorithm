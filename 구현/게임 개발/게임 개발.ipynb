{
  "nbformat": 4,
  "nbformat_minor": 0,
  "metadata": {
    "colab": {
      "provenance": [],
      "authorship_tag": "ABX9TyMJ6+bj5iwovsMt0bDHEoIf",
      "include_colab_link": true
    },
    "kernelspec": {
      "name": "python3",
      "display_name": "Python 3"
    },
    "language_info": {
      "name": "python"
    }
  },
  "cells": [
    {
      "cell_type": "markdown",
      "metadata": {
        "id": "view-in-github",
        "colab_type": "text"
      },
      "source": [
        "<a href=\"https://colab.research.google.com/github/RaOOns/Coding-Algorithm/blob/main/%EA%B5%AC%ED%98%84/%EA%B2%8C%EC%9E%84%20%EA%B0%9C%EB%B0%9C/%EA%B2%8C%EC%9E%84%20%EA%B0%9C%EB%B0%9C.ipynb\" target=\"_parent\"><img src=\"https://colab.research.google.com/assets/colab-badge.svg\" alt=\"Open In Colab\"/></a>"
      ]
    },
    {
      "cell_type": "code",
      "execution_count": 1,
      "metadata": {
        "colab": {
          "base_uri": "https://localhost:8080/"
        },
        "id": "XWXs8KHUSIr-",
        "outputId": "2dcc9734-2038-4e73-cdb4-e33be0021b38"
      },
      "outputs": [
        {
          "output_type": "stream",
          "name": "stdout",
          "text": [
            "4 4\n",
            "1 1 0\n",
            "1 1 1 1\n",
            "1 0 0 1\n",
            "1 1 0 1\n",
            "1 1 1 1\n",
            "3\n"
          ]
        }
      ],
      "source": [
        "### N, M을 공백으로 구분하여 입력받기\n",
        "n, m = map(int, input().split())\n",
        "\n",
        "\n",
        "### 방문한 위치를 저장하기 위한 맵을 생성하여 0으로 초기화\n",
        "d = [[0] * m for _ in range(n)]\n",
        "\n",
        "\n",
        "### 현재 캐릭터의 X 좌표, Y 좌표, 방향을 입력받기\n",
        "x, y, direction = map(int, input().split())\n",
        "d[x][y] = 1     # 현재 좌표 방문 처리\n",
        "\n",
        "\n",
        "### 전체 맵 정보를 입력받기\n",
        "array = []\n",
        "for i in range(n):\n",
        "    array.append(list(map(int, input().split())))\n",
        "\n",
        "\n",
        "### 북, 동, 남, 서 방향 정의\n",
        "dx = [-1, 0, 1, 0]\n",
        "dy = [0, 1, 0, -1]\n",
        "\n",
        "\n",
        "### 왼쪽으로 회전\n",
        "def turn_left():\n",
        "    global direction        # 함수 밖의 direction과 구분하기 위해 사용\n",
        "    direction -= 1\n",
        "    if direction == -1:\n",
        "        direction = 3\n",
        "\n",
        "\n",
        "### 시뮬에이션 시작\n",
        "count = 1           # 캐릭터가 방문한 칸 수\n",
        "turn_time = 0       # 캐릭터가 왼쪽으로 회전한 횟수\n",
        "\n",
        "while True:\n",
        "    # 왼쪽으로 회전\n",
        "    turn_left()\n",
        "    nx = x + dx[direction]\n",
        "    ny = y + dy[direction]\n",
        "\n",
        "    # 회전한 이후 정면에 가보지 않은 칸이 존재하는 경우 이동\n",
        "    if d[nx][ny] == 0 and array[nx][ny] == 0:\n",
        "        d[nx][ny] = 1\n",
        "        x = nx\n",
        "        y = ny\n",
        "        count += 1\n",
        "        turn_time = 0\n",
        "        continue\n",
        "\n",
        "    # 회전한 이후 정면에 가보지 않은 칸이 없거나 바다인 경우\n",
        "    else:\n",
        "        turn_time += 1\n",
        "\n",
        "    # 네 방향 모두 갈 수 없는 경우\n",
        "    if turn_time == 4:\n",
        "        nx = x - dx[direction]\n",
        "        ny = y - dy[direction]\n",
        "\n",
        "        # 뒤로 갈 수 있다면 이동하기\n",
        "        if array[nx][ny] == 0:\n",
        "            x = nx\n",
        "            y = ny\n",
        "\n",
        "        # 뒤가 바다로 막혀있는 경우\n",
        "        else:\n",
        "            break\n",
        "        turn_time = 0\n",
        "\n",
        "print(count)"
      ]
    },
    {
      "cell_type": "markdown",
      "source": [
        "- 입력1\n",
        "    - 4 4       # 맵의 크기\n",
        "    - 1 1 0     # 위치(1,1) 바라보는 방향(0)\n",
        "    - 1 1 1 1   # 맵의 형태\n",
        "    - 1 0 0 1\n",
        "    - 1 1 0 1\n",
        "    - 1 1 1 1\n",
        "\n",
        "<br/>\n",
        "\n",
        "- 입력2: &nbsp; 오류(list index out of range) 발생, 입력된 맵의 외곽이 모두 바다가 아니기에 캐릭터가 밖으로 떨어지는 오류 발생\n",
        "(이 문제에서는 고려하지 않음)\n",
        "    - 3 3\n",
        "    - 1 1 0\n",
        "    - 1 1 1\n",
        "    - 1 0 0\n",
        "    - 1 1 0"
      ],
      "metadata": {
        "id": "y613sD9zWdb3"
      }
    },
    {
      "cell_type": "code",
      "source": [],
      "metadata": {
        "id": "3xp5Fw-kW8YQ"
      },
      "execution_count": null,
      "outputs": []
    }
  ]
}
