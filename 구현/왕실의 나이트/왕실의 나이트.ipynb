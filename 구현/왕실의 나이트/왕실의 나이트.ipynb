{
  "nbformat": 4,
  "nbformat_minor": 0,
  "metadata": {
    "colab": {
      "provenance": [],
      "authorship_tag": "ABX9TyPP9ZgFbTcQ6en/hT7k9YEO",
      "include_colab_link": true
    },
    "kernelspec": {
      "name": "python3",
      "display_name": "Python 3"
    },
    "language_info": {
      "name": "python"
    }
  },
  "cells": [
    {
      "cell_type": "markdown",
      "metadata": {
        "id": "view-in-github",
        "colab_type": "text"
      },
      "source": [
        "<a href=\"https://colab.research.google.com/github/RaOOns/Coding-Algorithm/blob/main/%EA%B5%AC%ED%98%84/%EC%99%95%EC%8B%A4%EC%9D%98%20%EB%82%98%EC%9D%B4%ED%8A%B8/%EC%99%95%EC%8B%A4%EC%9D%98%20%EB%82%98%EC%9D%B4%ED%8A%B8.ipynb\" target=\"_parent\"><img src=\"https://colab.research.google.com/assets/colab-badge.svg\" alt=\"Open In Colab\"/></a>"
      ]
    },
    {
      "cell_type": "code",
      "execution_count": 1,
      "metadata": {
        "colab": {
          "base_uri": "https://localhost:8080/"
        },
        "id": "I798yxG2K9ue",
        "outputId": "a3c36780-64d6-4a4d-e79f-48a7c2ea9a2d"
      },
      "outputs": [
        {
          "output_type": "stream",
          "name": "stdout",
          "text": [
            "c2\n",
            "6\n"
          ]
        }
      ],
      "source": [
        "### 현재 나이트 위치 입력받기\n",
        "input_data = input()\n",
        "row = int(input_data[1])\n",
        "col = int(ord(input_data[0])) - int(ord(\"a\")) + 1    # ord: 하나의 문자를 인자로 받고 해당 문자에 해당하는 유니코드 정수를 반환.\n",
        "\n",
        "\n",
        "\n",
        "### 나이트가 이동할 수 있는 8가지 방향 정의\n",
        "steps = [(-2, - 1), (-1, -2), (1, -2), (2, -1),\n",
        "         (2, 1), (1, 2), (-1, 2), (-2, 1)]\n",
        "\n",
        "\n",
        "\n",
        "### 8가지 방향에 대하여 각 위치로 이동 가능한지 확인\n",
        "result = 0\n",
        "\n",
        "for step in steps:\n",
        "    # 이동하고자 하는 위치 확인\n",
        "    next_row = row + step[0]\n",
        "    next_col = col + step[0]\n",
        "\n",
        "    # 해당 위치로 이동이 가능하면 카운트 증가\n",
        "    if next_row >= 1 and next_row <= 8 and next_col >= 1 and next_col <= 8:\n",
        "        result += 1\n",
        "\n",
        "print(result)"
      ]
    },
    {
      "cell_type": "code",
      "source": [],
      "metadata": {
        "id": "A2DX3VpXMM-u"
      },
      "execution_count": null,
      "outputs": []
    }
  ]
}